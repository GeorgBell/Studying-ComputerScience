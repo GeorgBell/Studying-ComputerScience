{
 "cells": [
  {
   "cell_type": "markdown",
   "id": "crude-dialogue",
   "metadata": {},
   "source": [
    "# Chapter 3. Constraint-satisfaction problems\n",
    "## 3.1. Building structure for CSP "
   ]
  },
  {
   "cell_type": "markdown",
   "id": "comprehensive-regulation",
   "metadata": {},
   "source": [
    "__Importing dependencies__"
   ]
  },
  {
   "cell_type": "code",
   "execution_count": 12,
   "id": "present-honey",
   "metadata": {},
   "outputs": [],
   "source": [
    "from typing import Generic, TypeVar, Dict, List, Optional\n",
    "from abc import ABC, abstractmethod\n",
    "\n",
    "V = TypeVar('V') # Variable type\n",
    "D = TypeVar('D') # Domain type"
   ]
  },
  {
   "cell_type": "markdown",
   "id": "canadian-patent",
   "metadata": {},
   "source": [
    "__Implementing base class for the CSP__"
   ]
  },
  {
   "cell_type": "code",
   "execution_count": 13,
   "id": "electoral-cycling",
   "metadata": {},
   "outputs": [],
   "source": [
    "class Constraint(Generic[V, D], ABC):\n",
    "    def __init__(self, variables: List[V]) -> None:\n",
    "        self.variables = variables\n",
    "        \n",
    "    @abstractmethod\n",
    "    def satisfied(self, assignment: Dict[V, D]) -> bool: \n",
    "        pass\n",
    "    \n",
    "class CSP(Generic[V, D]):\n",
    "    \"\"\"\n",
    "    Constraint-satisfaction problem consists of:\n",
    "    - variables;\n",
    "    - domains - possible range of values for each variable;\n",
    "    - constraint - defining whether the choice of donain is available for the variable\n",
    "    \"\"\"\n",
    "    def __init__(self, variables: List[V], domains: Dict[V, List[D]]) -> None:\n",
    "        self.variables: List[V] = variables\n",
    "        self.domains: Dict[D, List[V]] = domains\n",
    "        self.constraints: Dict[V, List[Constraint[V, D]]] = {}\n",
    "        \n",
    "        for variable in self.variables:\n",
    "            self.constraints[variable] = []\n",
    "            if variable not in self.domains:\n",
    "                raise LookupError(\"Every variable should have a domain assignred to it.\")\n",
    "        \n",
    "    def add_constraint(self, constraint: Constraint[V, D]) -> None:\n",
    "        for variable in constraint.variables:\n",
    "            if variable not in self.variables:\n",
    "                raise LookupError(\"Variable in constraint not in CSP\")\n",
    "            else:\n",
    "                self.constraints[variable].append(constraint)\n",
    "    \n",
    "    def consistent(self, variable: V, assignment: Dict[V, D]) -> bool:\n",
    "        for constraint in self.constraints[variable]:\n",
    "            if not constraint.satisfied(assignment): \n",
    "                # constraint method is defined in specific class\n",
    "                return False\n",
    "        return True\n",
    "    \n",
    "    def backtracking_search(self, assignment: Dict[V, D] = {}) -> Optional[Dict[V, D]]:\n",
    "        \"\"\"\n",
    "        Recursive search\n",
    "        \"\"\"\n",
    "        # Base case: check if all variables are assigned\n",
    "        if len(assignment) == len(self.variables):\n",
    "            return assignment\n",
    "        \n",
    "        # Get all unassigned variables from CSP\n",
    "        unassigned: List[V] = [v for v in self.variables if v not in assignment]\n",
    "            \n",
    "        # Get all possible values of the domain for the 1st unassigned variable\n",
    "        first: V = unassigned[0]\n",
    "        for value in self.domains[first]:\n",
    "            local_assignment = assignment.copy()\n",
    "            local_assignment[first] = value\n",
    "            # if no contradictions, go on with the recursion\n",
    "            if self.consistent(first, local_assignment):\n",
    "                result: Optional[Dict[V, D]] = self.backtracking_search(local_assignment)\n",
    "                # if no result is found finish the returns\n",
    "                if result is not None:\n",
    "                    return result\n",
    "        return None # No solution"
   ]
  },
  {
   "cell_type": "markdown",
   "id": "enclosed-schedule",
   "metadata": {},
   "source": [
    "## 3.2. Coloring Australia map"
   ]
  },
  {
   "cell_type": "markdown",
   "id": "round-vienna",
   "metadata": {},
   "source": [
    "__Map coloring constraint__:\n",
    "Two region with shared border could not be coloured in the same way"
   ]
  },
  {
   "cell_type": "code",
   "execution_count": 14,
   "id": "increased-reading",
   "metadata": {},
   "outputs": [],
   "source": [
    "class MapColoringConstraint(Constraint[str, str]):\n",
    "    def __init__(self, place1: str, place2: str) -> None:\n",
    "        super().__init__([place1, place2])\n",
    "        self.place1: str = place1\n",
    "        self.place2: str = place2\n",
    "    \n",
    "    def satisfied(self, assignment: Dict[str, str]) -> bool:\n",
    "        # Check if places are coloured\n",
    "        if self.place1 not in assignment or self.place2 not in assignment:\n",
    "            return True\n",
    "        return assignment[self.place1] != assignment[self.place2]"
   ]
  },
  {
   "cell_type": "markdown",
   "id": "random-finance",
   "metadata": {},
   "source": [
    "__Add places and colors__"
   ]
  },
  {
   "cell_type": "code",
   "execution_count": 15,
   "id": "pregnant-functionality",
   "metadata": {},
   "outputs": [],
   "source": [
    "variables: List[str] = [\"Western Australia\", \"Northern Territory\", \"South Australia\", \n",
    "                      \"Queensland\", \"New South Wales\", \"Victoria\", \"Tasmania\"]\n",
    "domains: Dict[str, str] = {}\n",
    "for variable in variables:\n",
    "    domains[variable] = [\"red\", \"green\", \"blue\"]"
   ]
  },
  {
   "cell_type": "markdown",
   "id": "lasting-northern",
   "metadata": {},
   "source": [
    "__Add constraints__"
   ]
  },
  {
   "cell_type": "code",
   "execution_count": 16,
   "id": "different-server",
   "metadata": {},
   "outputs": [],
   "source": [
    "csp: CSP[str, str] = CSP(variables, domains)\n",
    "csp.add_constraint(MapColoringConstraint(\"Western Australia\", \"Northern Territory\"))\n",
    "csp.add_constraint(MapColoringConstraint(\"Western Australia\", \"South Australia\"))\n",
    "csp.add_constraint(MapColoringConstraint(\"Northern Territory\", \"South Australia\"))\n",
    "csp.add_constraint(MapColoringConstraint(\"Northern Territory\", \"Queensland\"))\n",
    "csp.add_constraint(MapColoringConstraint(\"Queensland\", \"South Australia\"))\n",
    "csp.add_constraint(MapColoringConstraint(\"Queensland\", \"New South Wales\"))\n",
    "csp.add_constraint(MapColoringConstraint(\"South Australia\", \"New South Wales\"))\n",
    "csp.add_constraint(MapColoringConstraint(\"South Australia\", \"Victoria\"))\n",
    "csp.add_constraint(MapColoringConstraint(\"New South Wales\", \"Victoria\"))\n",
    "csp.add_constraint(MapColoringConstraint(\"Tasmania\", \"Victoria\"))"
   ]
  },
  {
   "cell_type": "markdown",
   "id": "important-appliance",
   "metadata": {},
   "source": [
    "__Solve the problem__"
   ]
  },
  {
   "cell_type": "code",
   "execution_count": 17,
   "id": "desirable-class",
   "metadata": {},
   "outputs": [
    {
     "name": "stdout",
     "output_type": "stream",
     "text": [
      "{'Western Australia': 'red', 'Northern Territory': 'green', 'South Australia': 'blue', 'Queensland': 'red', 'New South Wales': 'green', 'Victoria': 'red', 'Tasmania': 'green'}\n"
     ]
    }
   ],
   "source": [
    "solution: Optional[Dict[str, str]] = csp.backtracking_search()\n",
    "if solution is None:\n",
    "    print(\"No solution found!\")\n",
    "else:\n",
    "    print(solution)"
   ]
  },
  {
   "cell_type": "markdown",
   "id": "limiting-ukraine",
   "metadata": {},
   "source": [
    "## 3.3. The eight queens problem  \n",
    "Find the places of the eight chess queens so that none of them attacks each other"
   ]
  },
  {
   "cell_type": "markdown",
   "id": "pacific-nebraska",
   "metadata": {},
   "source": [
    "__Prior knowledge__: We can guarantee that no pair is located on the same vertical line => assign them sequential vertical lines"
   ]
  },
  {
   "cell_type": "code",
   "execution_count": 19,
   "id": "dental-november",
   "metadata": {},
   "outputs": [],
   "source": [
    "columns: List[int] = [1,2,3,4,5,6,7,8] # Variable\n",
    "rows: Dict[int, List[int]] = {} # Domain\n",
    "for column in columns:\n",
    "    rows[column] = [1,2,3,4,5,6,7,8]\n",
    "\n",
    "csp: CSP[int, int] = CSP(columns, rows)"
   ]
  },
  {
   "cell_type": "markdown",
   "id": "acquired-marketing",
   "metadata": {},
   "source": [
    "__Create constraint__: that is checking no pair of queens is on the same horizontal or diagonal line"
   ]
  },
  {
   "cell_type": "code",
   "execution_count": 20,
   "id": "early-cruise",
   "metadata": {},
   "outputs": [],
   "source": [
    "class QueensConstraint(Constraint[int, int]):\n",
    "    def __init__(self, columns: List[int]) -> None:\n",
    "        super().__init__(columns)\n",
    "        self.columns: List[int] = columns\n",
    "    \n",
    "    def satisfied(self, assignment: Dict[int, int]) -> bool:\n",
    "        # q1c - queen on the first vertical\n",
    "        # q1r - queen on the first horizontal\n",
    "        # q2c - ... second vertical\n",
    "        # q2r - ... second horizontal\n",
    "        for q1c, q1r in assignment.items():\n",
    "            for q2c in range(q1c +1, len(self.columns) + 1):\n",
    "                if q2c in assignment:\n",
    "                    q2r: int = assignment[q2c]\n",
    "                    if q1r == q2r: # The same row\n",
    "                        return False\n",
    "                    if abs(q1r - q2r) == abs(q1c - q2c):\n",
    "                        return False\n",
    "        return True"
   ]
  },
  {
   "cell_type": "markdown",
   "id": "private-treasurer",
   "metadata": {},
   "source": [
    "__Solving the problem__"
   ]
  },
  {
   "cell_type": "code",
   "execution_count": 22,
   "id": "minor-newton",
   "metadata": {},
   "outputs": [
    {
     "name": "stdout",
     "output_type": "stream",
     "text": [
      "{1: 1, 2: 5, 3: 8, 4: 6, 5: 3, 6: 7, 7: 2, 8: 4}\n"
     ]
    }
   ],
   "source": [
    "csp.add_constraint(QueensConstraint(columns))\n",
    "\n",
    "solution: Optional[Dict[int, int]] = csp.backtracking_search()\n",
    "if solution is None:\n",
    "    print(\"No solution is found\")\n",
    "else:\n",
    "    print(solution)"
   ]
  },
  {
   "cell_type": "markdown",
   "id": "demonstrated-workstation",
   "metadata": {},
   "source": [
    "## 3.4. Word search"
   ]
  },
  {
   "cell_type": "markdown",
   "id": "sustained-penalty",
   "metadata": {},
   "source": [
    "__Helper imports and functions__"
   ]
  },
  {
   "cell_type": "code",
   "execution_count": 38,
   "id": "noted-longer",
   "metadata": {},
   "outputs": [],
   "source": [
    "from random import choice\n",
    "from string import ascii_uppercase\n",
    "from typing import NamedTuple"
   ]
  },
  {
   "cell_type": "code",
   "execution_count": 39,
   "id": "virtual-depression",
   "metadata": {},
   "outputs": [],
   "source": [
    "Grid = List[List[str]]\n",
    "\n",
    "class GridLocation(NamedTuple):\n",
    "    row: int\n",
    "    column: int"
   ]
  },
  {
   "cell_type": "markdown",
   "id": "static-sunglasses",
   "metadata": {},
   "source": [
    "__Prepare grid__"
   ]
  },
  {
   "cell_type": "code",
   "execution_count": 40,
   "id": "rolled-queen",
   "metadata": {},
   "outputs": [],
   "source": [
    "def generate_grid(rows: int, columns: int) -> Grid:\n",
    "    return [[choice(ascii_uppercase) for c in range(columns)]\n",
    "           for r in range(rows)]\n",
    "\n",
    "def display_grid(grid: Grid) -> None:\n",
    "    for row in grid:\n",
    "        print(\"\".join(row))"
   ]
  },
  {
   "cell_type": "code",
   "execution_count": 41,
   "id": "honest-flush",
   "metadata": {},
   "outputs": [
    {
     "name": "stdout",
     "output_type": "stream",
     "text": [
      "YAKCYXXDEL\n",
      "SKCPMQWENA\n",
      "BNNNRQKCUR\n",
      "ESTOEPFBEL\n",
      "WGYWIMJQNH\n",
      "OFAVKXIFWW\n",
      "TOOLMFWOPM\n",
      "BSSPSBIRHW\n",
      "NHSCFVVLZF\n",
      "CEZIHXRUIW\n"
     ]
    }
   ],
   "source": [
    "test_grid = generate_grid(10, 10)\n",
    "display_grid(test_grid)"
   ]
  },
  {
   "cell_type": "markdown",
   "id": "welcome-norman",
   "metadata": {},
   "source": [
    "__Define domain as location of the words in the grid__"
   ]
  },
  {
   "cell_type": "code",
   "execution_count": 50,
   "id": "stuffed-demographic",
   "metadata": {},
   "outputs": [],
   "source": [
    "def generate_domain(word: str, grid: Grid) -> List[List[GridLocation]]:\n",
    "    domain: List[List[GridLocation]] = []\n",
    "    height: int = len(grid)\n",
    "    width: int = len(grid[0])\n",
    "    length: int = len(word)\n",
    "    for row in range(height):\n",
    "        for col in range(width):\n",
    "            columns: range = range(col, col + length)\n",
    "            rows: range = range(row, row + length)\n",
    "            if col + length <= width:\n",
    "                # left to right\n",
    "                domain.append([GridLocation(row, c) for c in columns])\n",
    "                # diagonal towards bottom right\n",
    "                if row + length <= height:\n",
    "                    domain.append([GridLocation(r, col + (r - row)) for r in rows])\n",
    "            if row + length <= height:\n",
    "                # top to bottom\n",
    "                domain.append([GridLocation(r, col) for r in rows])\n",
    "                # diagonal towards bottom left\n",
    "                if col - length >= 0:\n",
    "                    domain.append([GridLocation(r, col - (r - row)) for r in rows])\n",
    "    return domain"
   ]
  },
  {
   "cell_type": "markdown",
   "id": "atomic-dryer",
   "metadata": {},
   "source": [
    "__Create constraint__: if places of two words are the same"
   ]
  },
  {
   "cell_type": "code",
   "execution_count": 51,
   "id": "given-louis",
   "metadata": {},
   "outputs": [],
   "source": [
    "class WordSearchConstraint(Constraint[str, List[GridLocation]]):\n",
    "    def __init__(self, words: List[str]) -> None:\n",
    "        super().__init__(words)\n",
    "        self.words: List[str] = words\n",
    "\n",
    "    def satisfied(self, assignment: Dict[str, List[GridLocation]]) -> bool:\n",
    "        # if there are any duplicates grid locations then there is an overlap\n",
    "        all_locations = [locs for values in assignment.values() for locs in values]\n",
    "        return len(set(all_locations)) == len(all_locations)"
   ]
  },
  {
   "cell_type": "markdown",
   "id": "grateful-wedding",
   "metadata": {},
   "source": [
    "__Create variables and define variables__"
   ]
  },
  {
   "cell_type": "code",
   "execution_count": 62,
   "id": "swiss-wholesale",
   "metadata": {},
   "outputs": [],
   "source": [
    "grid: Grid = generate_grid(9, 9)\n",
    "words: List[str] = [\"matthew\", \"joe\", \"mary\", \"sarah\", \"sally\"]\n",
    "locations: Dict[str, List[List[GridLocation]]] = {}\n",
    "for word in words:\n",
    "    locations[word] = generate_domain(word, grid)\n",
    "csp: CSP[str, List[GridLocation]] = CSP(words, locations)\n",
    "csp.add_constraint(WordSearchConstraint(words))"
   ]
  },
  {
   "cell_type": "markdown",
   "id": "limited-referral",
   "metadata": {},
   "source": [
    "__Find solution__"
   ]
  },
  {
   "cell_type": "code",
   "execution_count": 63,
   "id": "exciting-location",
   "metadata": {},
   "outputs": [
    {
     "name": "stdout",
     "output_type": "stream",
     "text": [
      "wehttamey\n",
      "harassDor\n",
      "CREIBaJja\n",
      "UYTHDlRFm\n",
      "MCUBAlGWS\n",
      "UGCMKySZN\n",
      "NZJIEPAWK\n",
      "LVTCVTQBU\n",
      "OXWVUHTIA\n"
     ]
    }
   ],
   "source": [
    "solution: Optional[Dict[str, List[GridLocation]]] = csp.backtracking_search()\n",
    "if solution is None:\n",
    "    print(\"No solution is found!\")\n",
    "else:\n",
    "    for word, grid_locations in solution.items():\n",
    "        if choice([True, False]):\n",
    "            grid_locations.reverse()\n",
    "        for index, letter in enumerate(word):\n",
    "            (row, col) = (grid_locations[index].row,\n",
    "                         grid_locations[index].column)\n",
    "            grid[row][col] = letter\n",
    "    display_grid(grid)"
   ]
  },
  {
   "cell_type": "markdown",
   "id": "brief-working",
   "metadata": {},
   "source": [
    "## 3.5. SEND + MORE = MONEY\n",
    "Cryptoarithmic task"
   ]
  },
  {
   "cell_type": "markdown",
   "id": "economic-northeast",
   "metadata": {},
   "source": [
    "__Create constraint__"
   ]
  },
  {
   "cell_type": "code",
   "execution_count": 75,
   "id": "detected-irish",
   "metadata": {},
   "outputs": [],
   "source": [
    "class SendMoreMoneyConstraint(Constraint[str, int]):\n",
    "    def __init__(self, letters: List[str]) -> None:\n",
    "        super().__init__(letters)\n",
    "        self.letters: List[str] = letters\n",
    "\n",
    "    def satisfied(self, assignment: Dict[str, int]) -> bool:\n",
    "        # if there are duplicate values then it's not a solution\n",
    "        if len(set(assignment.values())) < len(assignment):\n",
    "            return False\n",
    "\n",
    "        # if all variables have been assigned, check if it adds correctly\n",
    "        if len(assignment) == len(self.letters):\n",
    "            s: int = assignment[\"S\"]\n",
    "            e: int = assignment[\"E\"]\n",
    "            n: int = assignment[\"N\"]\n",
    "            d: int = assignment[\"D\"]\n",
    "            m: int = assignment[\"M\"]\n",
    "            o: int = assignment[\"O\"]\n",
    "            r: int = assignment[\"R\"]\n",
    "            y: int = assignment[\"Y\"]\n",
    "            send: int = s * 1000 + e * 100 + n * 10 + d\n",
    "            more: int = m * 1000 + o * 100 + r * 10 + e\n",
    "            money: int = m * 10000 + o * 1000 + n * 100 + e * 10 + y\n",
    "            return send + more == money\n",
    "        return True # no conflict"
   ]
  },
  {
   "cell_type": "markdown",
   "id": "acknowledged-society",
   "metadata": {},
   "source": [
    "__Create variable and define domain__"
   ]
  },
  {
   "cell_type": "code",
   "execution_count": 83,
   "id": "bright-craft",
   "metadata": {},
   "outputs": [],
   "source": [
    "letters: List[str] = ['S', 'E', 'N', 'D', 'M', 'O', 'R', 'Y']\n",
    "possible_digits: Dict[str, List[int]] = {}\n",
    "for letter in letters:\n",
    "    possible_digits[letter] = [0, 1, 2, 3, 4, 5, 6, 7, 8, 9]\n",
    "possible_digits[\"M\"] = [1]  # so we don't get answers starting with a 0\n",
    "csp: CSP[str, int] = CSP(letters, possible_digits)\n",
    "csp.add_constraint(SendMoreMoneyConstraint(letters))"
   ]
  },
  {
   "cell_type": "code",
   "execution_count": 84,
   "id": "varying-property",
   "metadata": {},
   "outputs": [
    {
     "name": "stdout",
     "output_type": "stream",
     "text": [
      "{'S': 9, 'E': 5, 'N': 6, 'D': 7, 'M': 1, 'O': 0, 'R': 8, 'Y': 2}\n"
     ]
    }
   ],
   "source": [
    "solution: Optional[Dict[str, int]] = csp.backtracking_search()\n",
    "if solution is None:\n",
    "    print(\"No solution is found\")\n",
    "else:\n",
    "    print(solution)"
   ]
  },
  {
   "cell_type": "markdown",
   "id": "bacterial-congress",
   "metadata": {},
   "source": [
    "## 3.6. Circuit board layout"
   ]
  },
  {
   "cell_type": "code",
   "execution_count": 85,
   "id": "trying-balloon",
   "metadata": {},
   "outputs": [
    {
     "name": "stdout",
     "output_type": "stream",
     "text": [
      "OOOOOOOOOO\n",
      "OOOOOOOOOO\n",
      "OOOOOOOOOO\n",
      "OOOOOOOOOO\n",
      "OOOOOOOOOO\n",
      "OOOOOOOOOO\n",
      "OOOOOOOOOO\n",
      "OOOOOOOOOO\n",
      "OOOOOOOOOO\n",
      "OOOOOOOOOO\n"
     ]
    }
   ],
   "source": [
    "Grid = List[List[str]]\n",
    "\n",
    "class GridLocation(NamedTuple):\n",
    "    row: int\n",
    "    column: int\n",
    "    \n",
    "def generate_grid(rows: int, columns: int) -> Grid:\n",
    "    return [[\"O\" for c in range(columns)]\n",
    "           for r in range(rows)]\n",
    "\n",
    "def display_grid(grid: Grid) -> None:\n",
    "    for row in grid:\n",
    "        print(\"\".join(row))\n",
    "        \n",
    "test_grid = generate_grid(10, 10)\n",
    "display_grid(test_grid)"
   ]
  },
  {
   "cell_type": "code",
   "execution_count": 87,
   "id": "ranking-nelson",
   "metadata": {},
   "outputs": [],
   "source": [
    "from typing import Tuple"
   ]
  },
  {
   "cell_type": "code",
   "execution_count": 132,
   "id": "comprehensive-approval",
   "metadata": {},
   "outputs": [],
   "source": [
    "def generate_domain(component_size: Tuple[int], grid: Grid) -> List[List[GridLocation]]:\n",
    "    domain: List[List[GridLocation]] = []\n",
    "    height: int = len(grid)\n",
    "    width: int = len(grid[0])\n",
    "    height_comp: int = component_size[0]\n",
    "    width_comp: int = component_size[1]\n",
    "    component_orientation_size: List[List[int]] = [list(component_size), list(component_size)[::-1]]\n",
    "    \n",
    "    for component_orientation in component_orientation_size:\n",
    "        height_comp: int = component_orientation[0]\n",
    "        width_comp: int = component_orientation[1]\n",
    "        for row in range(height):\n",
    "            for col in range(width):\n",
    "                columns: range = range(col, col + width_comp)\n",
    "                rows: range = range(row, row + height_comp)\n",
    "                if (col + width_comp) <= width and (row + height_comp <= height):\n",
    "                    # left to right\n",
    "                    domain.append([GridLocation(r, c) for c in columns for r in rows])\n",
    "    return domain"
   ]
  },
  {
   "cell_type": "code",
   "execution_count": 133,
   "id": "acting-syndication",
   "metadata": {},
   "outputs": [],
   "source": [
    "class CircuitSearchConstraint(Constraint[str, List[GridLocation]]):\n",
    "    def __init__(self, components_name: List[str]) -> None:\n",
    "        super().__init__(words)\n",
    "        self.components_name: List[str] = components_name\n",
    "\n",
    "    def satisfied(self, assignment: Dict[str, List[GridLocation]]) -> bool:\n",
    "        # if there are any duplicates grid locations then there is an overlap\n",
    "        all_locations = [locs for values in assignment.values() for locs in values]\n",
    "        return len(set(all_locations)) == len(all_locations)"
   ]
  },
  {
   "cell_type": "code",
   "execution_count": 146,
   "id": "accredited-prince",
   "metadata": {},
   "outputs": [],
   "source": [
    "grid: Grid = generate_grid(9, 9)\n",
    "components: Dict[str, Tuple[int]] = {\"1\":(5,3), \"2\":(7,3), \"3\":(3,3), \"4\":(9,1)}\n",
    "locations: Dict[str, List[List[GridLocation]]] = {}"
   ]
  },
  {
   "cell_type": "code",
   "execution_count": 147,
   "id": "pacific-blind",
   "metadata": {},
   "outputs": [],
   "source": [
    "for component_name in components.keys():\n",
    "    locations[component_name] = generate_domain(components[component_name], grid)\n",
    "csp: CSP[str, List[GridLocation]] = CSP(list(components.keys()), locations)\n",
    "csp.add_constraint(WordSearchConstraint(list(components.keys())))"
   ]
  },
  {
   "cell_type": "code",
   "execution_count": 148,
   "id": "intense-translator",
   "metadata": {},
   "outputs": [
    {
     "name": "stdout",
     "output_type": "stream",
     "text": [
      "111222333\n",
      "111222333\n",
      "111222333\n",
      "111222OOO\n",
      "111222OOO\n",
      "OOO222OOO\n",
      "OOO222OOO\n",
      "444444444\n",
      "OOOOOOOOO\n"
     ]
    }
   ],
   "source": [
    "solution: Optional[Dict[str, List[GridLocation]]] = csp.backtracking_search()\n",
    "if solution is None:\n",
    "    print(\"No solution is found!\")\n",
    "else:\n",
    "    for component_name, grid_locations in solution.items():\n",
    "        for location in grid_locations:\n",
    "            (row, col) = (location.row, location.column)\n",
    "            grid[row][col] = component_name            \n",
    "    display_grid(grid)"
   ]
  },
  {
   "cell_type": "code",
   "execution_count": null,
   "id": "unexpected-integer",
   "metadata": {},
   "outputs": [],
   "source": []
  }
 ],
 "metadata": {
  "kernelspec": {
   "display_name": "Python 3",
   "language": "python",
   "name": "python3"
  },
  "language_info": {
   "codemirror_mode": {
    "name": "ipython",
    "version": 3
   },
   "file_extension": ".py",
   "mimetype": "text/x-python",
   "name": "python",
   "nbconvert_exporter": "python",
   "pygments_lexer": "ipython3",
   "version": "3.9.2"
  }
 },
 "nbformat": 4,
 "nbformat_minor": 5
}
