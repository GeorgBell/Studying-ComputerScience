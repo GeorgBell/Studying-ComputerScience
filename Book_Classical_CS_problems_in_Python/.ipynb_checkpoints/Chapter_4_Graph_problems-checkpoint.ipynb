{
 "cells": [
  {
   "cell_type": "markdown",
   "id": "crude-dialogue",
   "metadata": {},
   "source": [
    "# Chapter 4. Graph problems\n",
    "## 4.2. Building graph structure"
   ]
  },
  {
   "cell_type": "markdown",
   "id": "comprehensive-regulation",
   "metadata": {},
   "source": [
    "__Defining edge of the graph__"
   ]
  },
  {
   "cell_type": "code",
   "execution_count": 1,
   "id": "unexpected-integer",
   "metadata": {},
   "outputs": [],
   "source": [
    "from __future__ import annotations\n",
    "from dataclasses import dataclass\n",
    "\n",
    "@dataclass\n",
    "class Edge:\n",
    "    u: int # 1st Vertix\n",
    "    v: int # 2nd Vertix\n",
    "    \n",
    "    def reversed(self) -> Edge:\n",
    "        return Edge(self.v, self.u)\n",
    "    \n",
    "    def __str__(self) -> str:\n",
    "        return f\"{self.u} -> {self.v}\""
   ]
  },
  {
   "cell_type": "markdown",
   "id": "exciting-jimmy",
   "metadata": {},
   "source": [
    "__Defining graph__"
   ]
  },
  {
   "cell_type": "code",
   "execution_count": 24,
   "id": "superior-colonial",
   "metadata": {},
   "outputs": [],
   "source": [
    "from typing import TypeVar, Generic, List, Optional, Tuple\n",
    "\n",
    "V = TypeVar(\"V\") # Vertix type\n",
    "\n",
    "class Graph(Generic[V]):\n",
    "    def __init__(self, vertices: List[V] = []) -> None:\n",
    "        self._vertices: List[V] = vertices\n",
    "        self._edges: List[List[Edge]] = [[] for _ in vertices]\n",
    "            \n",
    "    @property\n",
    "    def vertex_count(self) -> int:\n",
    "        return len(self._vertices)\n",
    "    \n",
    "    @property\n",
    "    def edge_count(self) -> int:\n",
    "        return sum(map(len, self._edges))\n",
    "    \n",
    "    # Add vertix to the graph and return its index\n",
    "    def add_vertex(self, vertex: V) -> int:\n",
    "        self._vertices.append(vertex)\n",
    "        self._edges.append([]) # Void list for edges\n",
    "        return self.vertex_count - 1 # index\n",
    "    \n",
    "    def add_edge(self, edge: Edge) -> None:\n",
    "        self._edges[edge.u].append(edge)\n",
    "        self._edges[edge.v].append(edge.reversed())\n",
    "    \n",
    "    def add_edge_by_indices(self, u: int, v: int) -> None:\n",
    "        edge: Edge = Edge(u, v)\n",
    "        self.add_edge(edge)\n",
    "    \n",
    "    def add_edge_by_vertices(self, first: V, second: V) -> None:\n",
    "        u: int = self._vertices.index(first)\n",
    "        v: int = self._vertices.index(second)\n",
    "        self.add_edge_by_indices(u, v)\n",
    "        \n",
    "    # Find vertex by index\n",
    "    def vertex_at(self, index: int) -> int:\n",
    "        return self._vertices[index]\n",
    "    \n",
    "    # Find index of the vertex\n",
    "    def index_of(self, vertex: V) -> int:\n",
    "        return self._vertices.index(vertex)\n",
    "    \n",
    "    def neighbors_for_index(self, index: int) -> List[V]:\n",
    "        return list(map(self.vertex_at, [e.v for e in self._edges[index]]))\n",
    "    \n",
    "    def neighbors_for_vertex(self, vertex: V) -> List[V]:\n",
    "        return self.neighbors_for_index(self.index_of(vertex))\n",
    "    \n",
    "    def edges_for_index(self, index: int) -> List[Edge]:\n",
    "        return self._edges[index]\n",
    "    \n",
    "    def edges_for_vertex(self, vertex: V) -> List[Edge]:\n",
    "        return self.edges_for_index(self.index_of(vertex))\n",
    "    \n",
    "    def __str__(self) -> str:\n",
    "        desc: str = \"\"\n",
    "        for i in range(self.vertex_count):\n",
    "            desc += f\"{self.vertex_at(i)} -> {self.neighbors_for_index(i)}\\n\"\n",
    "        return desc"
   ]
  },
  {
   "cell_type": "markdown",
   "id": "aggressive-motel",
   "metadata": {},
   "source": [
    "__Creating a graph of cities__"
   ]
  },
  {
   "cell_type": "code",
   "execution_count": 25,
   "id": "stylish-improvement",
   "metadata": {},
   "outputs": [
    {
     "name": "stdout",
     "output_type": "stream",
     "text": [
      "Seattle -> ['Chicago', 'San Francisco']\n",
      "San Francisco -> ['Seattle', 'Riverside', 'Los Angeles']\n",
      "Los Angeles -> ['San Francisco', 'Riverside', 'Phoenix']\n",
      "Riverside -> ['San Francisco', 'Los Angeles', 'Phoenix', 'Chicago']\n",
      "Phoenix -> ['Los Angeles', 'Riverside', 'Dallas', 'Houston']\n",
      "Chicago -> ['Seattle', 'Riverside', 'Dallas', 'Atlanta', 'Detroit']\n",
      "Boston -> ['Detroit', 'New York']\n",
      "New York -> ['Detroit', 'Boston', 'Philadelphia']\n",
      "Atlanta -> ['Dallas', 'Houston', 'Chicago', 'Washington', 'Miami']\n",
      "Miami -> ['Houston', 'Atlanta', 'Washington']\n",
      "Dallas -> ['Phoenix', 'Chicago', 'Atlanta', 'Houston']\n",
      "Houston -> ['Phoenix', 'Dallas', 'Atlanta', 'Miami']\n",
      "Detroit -> ['Chicago', 'Boston', 'Washington', 'New York']\n",
      "Philadelphia -> ['New York', 'Washington']\n",
      "Washington -> ['Atlanta', 'Miami', 'Detroit', 'Philadelphia']\n",
      "\n"
     ]
    }
   ],
   "source": [
    "city_graph: Graph[str] = Graph([\"Seattle\", \"San Francisco\", \"Los Angeles\", \"Riverside\", \"Phoenix\", \"Chicago\", \"Boston\", \"New York\", \"Atlanta\", \"Miami\", \"Dallas\", \"Houston\", \"Detroit\", \"Philadelphia\", \"Washington\"])\n",
    "city_graph.add_edge_by_vertices(\"Seattle\", \"Chicago\")\n",
    "city_graph.add_edge_by_vertices(\"Seattle\", \"San Francisco\")\n",
    "city_graph.add_edge_by_vertices(\"San Francisco\", \"Riverside\")\n",
    "city_graph.add_edge_by_vertices(\"San Francisco\", \"Los Angeles\")\n",
    "city_graph.add_edge_by_vertices(\"Los Angeles\", \"Riverside\")\n",
    "city_graph.add_edge_by_vertices(\"Los Angeles\", \"Phoenix\")\n",
    "city_graph.add_edge_by_vertices(\"Riverside\", \"Phoenix\")\n",
    "city_graph.add_edge_by_vertices(\"Riverside\", \"Chicago\")\n",
    "city_graph.add_edge_by_vertices(\"Phoenix\", \"Dallas\")\n",
    "city_graph.add_edge_by_vertices(\"Phoenix\", \"Houston\")\n",
    "city_graph.add_edge_by_vertices(\"Dallas\", \"Chicago\")\n",
    "city_graph.add_edge_by_vertices(\"Dallas\", \"Atlanta\")\n",
    "city_graph.add_edge_by_vertices(\"Dallas\", \"Houston\")\n",
    "city_graph.add_edge_by_vertices(\"Houston\", \"Atlanta\")\n",
    "city_graph.add_edge_by_vertices(\"Houston\", \"Miami\")\n",
    "city_graph.add_edge_by_vertices(\"Atlanta\", \"Chicago\")\n",
    "city_graph.add_edge_by_vertices(\"Atlanta\", \"Washington\")\n",
    "city_graph.add_edge_by_vertices(\"Atlanta\", \"Miami\")\n",
    "city_graph.add_edge_by_vertices(\"Miami\", \"Washington\")\n",
    "city_graph.add_edge_by_vertices(\"Chicago\", \"Detroit\")\n",
    "city_graph.add_edge_by_vertices(\"Detroit\", \"Boston\")\n",
    "city_graph.add_edge_by_vertices(\"Detroit\", \"Washington\")\n",
    "city_graph.add_edge_by_vertices(\"Detroit\", \"New York\")\n",
    "city_graph.add_edge_by_vertices(\"Boston\", \"New York\")\n",
    "city_graph.add_edge_by_vertices(\"New York\", \"Philadelphia\")\n",
    "city_graph.add_edge_by_vertices(\"Philadelphia\", \"Washington\")\n",
    "print(city_graph)"
   ]
  },
  {
   "cell_type": "markdown",
   "id": "beautiful-purple",
   "metadata": {},
   "source": [
    "## 4.3. Searching for the shortest path"
   ]
  },
  {
   "cell_type": "markdown",
   "id": "banner-flash",
   "metadata": {},
   "source": [
    "__Breadth-first search from chapter 2__"
   ]
  },
  {
   "cell_type": "code",
   "execution_count": 26,
   "id": "tamil-third",
   "metadata": {},
   "outputs": [],
   "source": [
    "from typing import TypeVar, Iterable, Sequence, Generic, List, Callable, Set, Deque, Dict, Any, Optional\n",
    "\n",
    "T = TypeVar('T')\n",
    "\n",
    "class Queue(Generic[T]):\n",
    "    def __init__(self) -> None:\n",
    "        self._container: Deque[T] = Deque()\n",
    "        \n",
    "    @property\n",
    "    def empty(self) -> bool:\n",
    "        return not self._container\n",
    "    \n",
    "    def push(self, item: T) -> None:\n",
    "        self._container.append(item)\n",
    "        \n",
    "    def pop(self) -> T:\n",
    "        return self._container.popleft()\n",
    "    \n",
    "    def __repr__(self) -> str:\n",
    "        return repr(self._container) \n",
    "\n",
    "class Node(Generic[T]):\n",
    "    def __init__(self, state: T, parent: Optional[Node], cost: float = 0.0, heuristic: float = 0.0) -> None:\n",
    "        self.state: T = state\n",
    "        self.parent: Optional[Node] = parent\n",
    "        self.cost: float = cost\n",
    "        self.heuristic: float = heuristic\n",
    "    \n",
    "    def __lt__(self, other: Node) -> bool:\n",
    "        return (self.cost + self.heuristic) < (other.cost + other.heuristic)\n",
    "    \n",
    "def node_to_path(node: Node[T]) -> List[T]:\n",
    "    path: List[T] = [node.state]\n",
    "    # From the end to the begining\n",
    "    while node.parent is not None:\n",
    "        node = node.parent\n",
    "        path.append(node.state)\n",
    "    path.reverse()\n",
    "    return path\n",
    "\n",
    "def bfs(initial: T, goal_test: Callable[[T], bool], successors: Callable[[T], List[T]]) -> Optional[Node[T]]:\n",
    "    frontier: Queue[Node[T]] = Queue()\n",
    "    frontier.push(Node(initial, None))\n",
    "    explored: Set[T] = {initial}\n",
    "        \n",
    "    while not frontier.empty:\n",
    "        current_node: Node[T] = frontier.pop()\n",
    "        current_state: T = current_node.state\n",
    "        if goal_test(current_state):\n",
    "            return current_node\n",
    "        for child in successors(current_state):\n",
    "            if child in explored:\n",
    "                continue\n",
    "            explored.add(child)\n",
    "            frontier.push(Node(child, current_node))\n",
    "    return None"
   ]
  },
  {
   "cell_type": "markdown",
   "id": "intermediate-foster",
   "metadata": {},
   "source": [
    "__Apply BFS to find the path from Boston to Miami__"
   ]
  },
  {
   "cell_type": "code",
   "execution_count": 27,
   "id": "happy-updating",
   "metadata": {},
   "outputs": [
    {
     "name": "stdout",
     "output_type": "stream",
     "text": [
      "Path from Boston to Miami:\n",
      "['Boston', 'Detroit', 'Washington', 'Miami']\n"
     ]
    }
   ],
   "source": [
    "# bfs(starting_point, endpoint_condition, successors)\n",
    "bfs_result: Optional[Node[V]] = bfs(\"Boston\", lambda x: x == \"Miami\", city_graph.neighbors_for_vertex)\n",
    "if bfs_result is None:\n",
    "    print(\"No solution is found\")\n",
    "else:\n",
    "    path: List[V] = node_to_path(bfs_result)\n",
    "    print(\"Path from Boston to Miami:\")\n",
    "    print(path)"
   ]
  },
  {
   "cell_type": "markdown",
   "id": "incorporated-integrity",
   "metadata": {},
   "source": [
    "## 4.4. Minimizing the cost of building the network"
   ]
  },
  {
   "cell_type": "markdown",
   "id": "tender-naples",
   "metadata": {},
   "source": [
    "__Building weighted edge__"
   ]
  },
  {
   "cell_type": "code",
   "execution_count": 28,
   "id": "special-integral",
   "metadata": {},
   "outputs": [],
   "source": [
    "@dataclass\n",
    "class WeightedEdge(Edge):\n",
    "    weight: float\n",
    "    \n",
    "    def reversed(self) -> WeightedEdge:\n",
    "        return WeightedEdge(self.v, self.u, self.weight)\n",
    "    \n",
    "    def __lt__(self, other: WeightedEdge) -> bool:\n",
    "        return self.weight < other.weight\n",
    "    \n",
    "    def __str__(self) -> str:\n",
    "        return f\"{self.u} {self.weight} > {self.v}\""
   ]
  },
  {
   "cell_type": "markdown",
   "id": "intellectual-house",
   "metadata": {},
   "source": [
    "__Building weighted graph__"
   ]
  },
  {
   "cell_type": "code",
   "execution_count": 31,
   "id": "constant-scotland",
   "metadata": {},
   "outputs": [],
   "source": [
    "V = TypeVar(\"V\")\n",
    "\n",
    "class WeightedGraph(Generic[V], Graph[V]):\n",
    "    def __init__(self, vertices: List[V] = []) -> None:\n",
    "        self._vertices: List[V] = vertices\n",
    "        self._edges: List[List[WeightedEdge]] = [[] for _ in vertices]\n",
    "            \n",
    "    def add_edge_by_indices(self, u: int, v: int, weight: float) -> None:\n",
    "        edge: WeightedEdge = WeightedEdge(u, v, weight)\n",
    "        self.add_edge(edge) # Super class method\n",
    "    \n",
    "    def add_edge_by_vertices(self, first: V, second: V, weight: float):\n",
    "        u: int = self._vertices.index(first)\n",
    "        v: int = self._vertices.index(second)\n",
    "        self.add_edge_by_indices(u, v, weight)\n",
    "    \n",
    "    def neighbors_for_index_with_weights(self, index: int) -> List[Tuple[V, float]]:\n",
    "        distance_tuples: List[Tuple[V, float]] = []\n",
    "        for edge in self.edges_for_index(index):\n",
    "            distance_tuples.append((self.vertex_at(edge.v), edge.weight))\n",
    "        return distance_tuples\n",
    "    \n",
    "    def __str__(self) -> str:\n",
    "        desc: str = \"\"\n",
    "        for i in range(self.vertex_count):\n",
    "            desc += f\"{self.vertex_at(i)} -> {self.neighbors_for_index_with_weights(i)}\\n\"\n",
    "        return desc"
   ]
  },
  {
   "cell_type": "markdown",
   "id": "bibliographic-patrol",
   "metadata": {},
   "source": [
    "__Filling the weighted graph__"
   ]
  },
  {
   "cell_type": "code",
   "execution_count": 32,
   "id": "hairy-traffic",
   "metadata": {},
   "outputs": [
    {
     "name": "stdout",
     "output_type": "stream",
     "text": [
      "Seattle -> [('Chicago', 1737), ('San Francisco', 678)]\n",
      "San Francisco -> [('Seattle', 678), ('Riverside', 386), ('Los Angeles', 348)]\n",
      "Los Angeles -> [('San Francisco', 348), ('Riverside', 50), ('Phoenix', 357)]\n",
      "Riverside -> [('San Francisco', 386), ('Los Angeles', 50), ('Phoenix', 307), ('Chicago', 1704)]\n",
      "Phoenix -> [('Los Angeles', 357), ('Riverside', 307), ('Dallas', 887), ('Houston', 1015)]\n",
      "Chicago -> [('Seattle', 1737), ('Riverside', 1704), ('Dallas', 805), ('Atlanta', 588), ('Detroit', 238)]\n",
      "Boston -> [('Detroit', 613), ('New York', 190)]\n",
      "New York -> [('Detroit', 482), ('Boston', 190), ('Philadelphia', 81)]\n",
      "Atlanta -> [('Dallas', 721), ('Houston', 702), ('Chicago', 588), ('Washington', 543), ('Miami', 604)]\n",
      "Miami -> [('Houston', 968), ('Atlanta', 604), ('Washington', 923)]\n",
      "Dallas -> [('Phoenix', 887), ('Chicago', 805), ('Atlanta', 721), ('Houston', 225)]\n",
      "Houston -> [('Phoenix', 1015), ('Dallas', 225), ('Atlanta', 702), ('Miami', 968)]\n",
      "Detroit -> [('Chicago', 238), ('Boston', 613), ('Washington', 396), ('New York', 482)]\n",
      "Philadelphia -> [('New York', 81), ('Washington', 123)]\n",
      "Washington -> [('Atlanta', 543), ('Miami', 923), ('Detroit', 396), ('Philadelphia', 123)]\n",
      "\n"
     ]
    }
   ],
   "source": [
    "city_graph2: WeightedGraph[str] = WeightedGraph([\"Seattle\", \"San Francisco\", \"Los Angeles\", \"Riverside\", \"Phoenix\", \"Chicago\", \"Boston\", \"New York\", \"Atlanta\", \"Miami\", \"Dallas\", \"Houston\", \"Detroit\", \"Philadelphia\", \"Washington\"])\n",
    "\n",
    "city_graph2.add_edge_by_vertices(\"Seattle\", \"Chicago\", 1737)\n",
    "city_graph2.add_edge_by_vertices(\"Seattle\", \"San Francisco\", 678)\n",
    "city_graph2.add_edge_by_vertices(\"San Francisco\", \"Riverside\", 386)\n",
    "city_graph2.add_edge_by_vertices(\"San Francisco\", \"Los Angeles\", 348)\n",
    "city_graph2.add_edge_by_vertices(\"Los Angeles\", \"Riverside\", 50)\n",
    "city_graph2.add_edge_by_vertices(\"Los Angeles\", \"Phoenix\", 357)\n",
    "city_graph2.add_edge_by_vertices(\"Riverside\", \"Phoenix\", 307)\n",
    "city_graph2.add_edge_by_vertices(\"Riverside\", \"Chicago\", 1704)\n",
    "city_graph2.add_edge_by_vertices(\"Phoenix\", \"Dallas\", 887)\n",
    "city_graph2.add_edge_by_vertices(\"Phoenix\", \"Houston\", 1015)\n",
    "city_graph2.add_edge_by_vertices(\"Dallas\", \"Chicago\", 805)\n",
    "city_graph2.add_edge_by_vertices(\"Dallas\", \"Atlanta\", 721)\n",
    "city_graph2.add_edge_by_vertices(\"Dallas\", \"Houston\", 225)\n",
    "city_graph2.add_edge_by_vertices(\"Houston\", \"Atlanta\", 702)\n",
    "city_graph2.add_edge_by_vertices(\"Houston\", \"Miami\", 968)\n",
    "city_graph2.add_edge_by_vertices(\"Atlanta\", \"Chicago\", 588)\n",
    "city_graph2.add_edge_by_vertices(\"Atlanta\", \"Washington\", 543)\n",
    "city_graph2.add_edge_by_vertices(\"Atlanta\", \"Miami\", 604)\n",
    "city_graph2.add_edge_by_vertices(\"Miami\", \"Washington\", 923)\n",
    "city_graph2.add_edge_by_vertices(\"Chicago\", \"Detroit\", 238)\n",
    "city_graph2.add_edge_by_vertices(\"Detroit\", \"Boston\", 613)\n",
    "city_graph2.add_edge_by_vertices(\"Detroit\", \"Washington\", 396)\n",
    "city_graph2.add_edge_by_vertices(\"Detroit\", \"New York\", 482)\n",
    "city_graph2.add_edge_by_vertices(\"Boston\", \"New York\", 190)\n",
    "city_graph2.add_edge_by_vertices(\"New York\", \"Philadelphia\", 81)\n",
    "city_graph2.add_edge_by_vertices(\"Philadelphia\", \"Washington\", 123)\n",
    "print(city_graph2)"
   ]
  },
  {
   "cell_type": "markdown",
   "id": "aging-stopping",
   "metadata": {},
   "source": [
    "__Finding minimum spanning tree with Yarnik's algorithm__"
   ]
  },
  {
   "cell_type": "markdown",
   "id": "downtown-polymer",
   "metadata": {},
   "source": [
    "__Priority queue__"
   ]
  },
  {
   "cell_type": "code",
   "execution_count": 33,
   "id": "ordered-function",
   "metadata": {},
   "outputs": [],
   "source": [
    "from heapq import heappop, heappush\n",
    "\n",
    "T = TypeVar(\"T\")\n",
    "\n",
    "class PriorityQueue(Generic[T]):\n",
    "    def __init__(self) -> None:\n",
    "        self._container: List[T] = []\n",
    "    \n",
    "    @property\n",
    "    def empty(self) -> bool:\n",
    "        return not self._container\n",
    "    \n",
    "    def push(self, item: T) -> None:\n",
    "        heappush(self._container, item) # Include with priority\n",
    "    \n",
    "    def pop(self) -> T:\n",
    "        return heappop(self._container)\n",
    "    \n",
    "    def __repr__(self) -> str:\n",
    "        return repr(self._container)"
   ]
  },
  {
   "cell_type": "markdown",
   "id": "aggressive-notification",
   "metadata": {},
   "source": [
    "__Calculating the total weight__"
   ]
  },
  {
   "cell_type": "code",
   "execution_count": 34,
   "id": "direct-charleston",
   "metadata": {},
   "outputs": [],
   "source": [
    "V = TypeVar(\"V\")\n",
    "WeightedPath = List[WeightedEdge] # Pseudoname of type for path\n",
    "\n",
    "def total_weight(wp: WeightedPath) -> float:\n",
    "    return sum([e.weight for e in wp])"
   ]
  },
  {
   "cell_type": "markdown",
   "id": "future-pickup",
   "metadata": {},
   "source": [
    "__Yarnik's algorithm__"
   ]
  },
  {
   "cell_type": "code",
   "execution_count": 35,
   "id": "legal-architect",
   "metadata": {},
   "outputs": [],
   "source": [
    "# Minimum spanning tree\n",
    "def mst(wg: WeightedGraph, start: int = 0) -> Optional[WeightedPath]:\n",
    "    if start > (wg.vertex_count - 1) or start < 0:\n",
    "        return None\n",
    "    \n",
    "    result: WeightedPath = [] # Final minimum spanning tree\n",
    "    pq: PriorityQueue[WeightedEdge] = PriorityQueue()\n",
    "    visited: [bool] = [False] * wg.vertex_count # List of visited vertices\n",
    "    \n",
    "    def visit(index: int):\n",
    "        visited[index] = True\n",
    "        for edge in wg.edges_for_index(index):\n",
    "            if not visited[edge.v]:\n",
    "                pq.push(edge)\n",
    "    \n",
    "    visit(start) # Starting\n",
    "    \n",
    "    while not pq.empty:\n",
    "        edge = pq.pop()\n",
    "        if visited[edge.v]: # Do not check twice\n",
    "            continue\n",
    "        result.append(edge)\n",
    "        visit(edge.v)\n",
    "    return result\n",
    "\n",
    "def print_weighted_path(wg: WeightedGraph, wp: WeightedPath) -> None:\n",
    "    for edge in wp:\n",
    "        print(f\"{wg.vertex_at(edge.u)} {edge.weight} > {wg.vertex_at(edge.v)}\")\n",
    "    print(f\"Total weight: {total_weight(wp)}\")"
   ]
  },
  {
   "cell_type": "markdown",
   "id": "imposed-reputation",
   "metadata": {},
   "source": [
    "__Applying algorithm__"
   ]
  },
  {
   "cell_type": "code",
   "execution_count": 36,
   "id": "reduced-binary",
   "metadata": {},
   "outputs": [
    {
     "name": "stdout",
     "output_type": "stream",
     "text": [
      "Seattle 678 > San Francisco\n",
      "San Francisco 348 > Los Angeles\n",
      "Los Angeles 50 > Riverside\n",
      "Riverside 307 > Phoenix\n",
      "Phoenix 887 > Dallas\n",
      "Dallas 225 > Houston\n",
      "Houston 702 > Atlanta\n",
      "Atlanta 543 > Washington\n",
      "Washington 123 > Philadelphia\n",
      "Philadelphia 81 > New York\n",
      "New York 190 > Boston\n",
      "Washington 396 > Detroit\n",
      "Detroit 238 > Chicago\n",
      "Atlanta 604 > Miami\n",
      "Total weight: 5372\n"
     ]
    }
   ],
   "source": [
    "city_graph2: WeightedGraph[str] = WeightedGraph([\"Seattle\", \"San Francisco\", \"Los Angeles\", \"Riverside\", \"Phoenix\", \"Chicago\", \"Boston\", \"New York\", \"Atlanta\", \"Miami\", \"Dallas\", \"Houston\", \"Detroit\", \"Philadelphia\", \"Washington\"])\n",
    "\n",
    "city_graph2.add_edge_by_vertices(\"Seattle\", \"Chicago\", 1737)\n",
    "city_graph2.add_edge_by_vertices(\"Seattle\", \"San Francisco\", 678)\n",
    "city_graph2.add_edge_by_vertices(\"San Francisco\", \"Riverside\", 386)\n",
    "city_graph2.add_edge_by_vertices(\"San Francisco\", \"Los Angeles\", 348)\n",
    "city_graph2.add_edge_by_vertices(\"Los Angeles\", \"Riverside\", 50)\n",
    "city_graph2.add_edge_by_vertices(\"Los Angeles\", \"Phoenix\", 357)\n",
    "city_graph2.add_edge_by_vertices(\"Riverside\", \"Phoenix\", 307)\n",
    "city_graph2.add_edge_by_vertices(\"Riverside\", \"Chicago\", 1704)\n",
    "city_graph2.add_edge_by_vertices(\"Phoenix\", \"Dallas\", 887)\n",
    "city_graph2.add_edge_by_vertices(\"Phoenix\", \"Houston\", 1015)\n",
    "city_graph2.add_edge_by_vertices(\"Dallas\", \"Chicago\", 805)\n",
    "city_graph2.add_edge_by_vertices(\"Dallas\", \"Atlanta\", 721)\n",
    "city_graph2.add_edge_by_vertices(\"Dallas\", \"Houston\", 225)\n",
    "city_graph2.add_edge_by_vertices(\"Houston\", \"Atlanta\", 702)\n",
    "city_graph2.add_edge_by_vertices(\"Houston\", \"Miami\", 968)\n",
    "city_graph2.add_edge_by_vertices(\"Atlanta\", \"Chicago\", 588)\n",
    "city_graph2.add_edge_by_vertices(\"Atlanta\", \"Washington\", 543)\n",
    "city_graph2.add_edge_by_vertices(\"Atlanta\", \"Miami\", 604)\n",
    "city_graph2.add_edge_by_vertices(\"Miami\", \"Washington\", 923)\n",
    "city_graph2.add_edge_by_vertices(\"Chicago\", \"Detroit\", 238)\n",
    "city_graph2.add_edge_by_vertices(\"Detroit\", \"Boston\", 613)\n",
    "city_graph2.add_edge_by_vertices(\"Detroit\", \"Washington\", 396)\n",
    "city_graph2.add_edge_by_vertices(\"Detroit\", \"New York\", 482)\n",
    "city_graph2.add_edge_by_vertices(\"Boston\", \"New York\", 190)\n",
    "city_graph2.add_edge_by_vertices(\"New York\", \"Philadelphia\", 81)\n",
    "city_graph2.add_edge_by_vertices(\"Philadelphia\", \"Washington\", 123)\n",
    "\n",
    "result: Optional[WeightedPath] = mst(city_graph2)\n",
    "if result is None:\n",
    "    print(\"No solution found!\")\n",
    "else:\n",
    "    print_weighted_path(city_graph2, result)"
   ]
  },
  {
   "cell_type": "markdown",
   "id": "grave-poultry",
   "metadata": {},
   "source": [
    "## 4.5. Finding the shortest paths in a weighted graph\n",
    "__Dijkstra Algorithm__"
   ]
  },
  {
   "cell_type": "markdown",
   "id": "official-blake",
   "metadata": {},
   "source": [
    "__Dijkstra Node__"
   ]
  },
  {
   "cell_type": "code",
   "execution_count": 37,
   "id": "twenty-confusion",
   "metadata": {},
   "outputs": [],
   "source": [
    "@dataclass\n",
    "class DijkstraNode:\n",
    "    vertex: int\n",
    "    distance: float\n",
    "    \n",
    "    def __lt__(self, other: DijkstraNode) -> bool:\n",
    "        return self.distance < other.distance\n",
    "    \n",
    "    def __eq__(self, other: DijkstraNode) -> bool:\n",
    "        return self.distance == other.distance"
   ]
  },
  {
   "cell_type": "markdown",
   "id": "independent-compact",
   "metadata": {},
   "source": [
    "__Algorithm implementation__"
   ]
  },
  {
   "cell_type": "code",
   "execution_count": 38,
   "id": "political-right",
   "metadata": {},
   "outputs": [],
   "source": [
    "def dijkstra(wg: WeightedGraph[V], root: V) -> Tuple[List[Optional[float]], Dict[int, WeightedEdge]]:\n",
    "    # Preparations\n",
    "    first: int = wg.index_of(root) # Find the starting vertex\n",
    "    distances: List[Optional[float]] = [None] * wg.vertex_count\n",
    "    distances[first] = 0 # 0-distance for the starting point\n",
    "    path_dict: Dict[int, WeightedEdge] = {}\n",
    "    pq: PriorityQueue[DijkstraNode] = PriorityQueue()\n",
    "    pq.push(DijkstraNode(first, 0))\n",
    "    \n",
    "    # Working with priority queue\n",
    "    while not pq.empty:\n",
    "        u: int = pq.pop().vertex # Check the closest vertex\n",
    "        dist_u: float = distances[u]\n",
    "        # Check all the edges and vertices for the current vertex\n",
    "        for we in wg.edges_for_index(u):\n",
    "            dist_v: float = distances[we.v] # The old distance to the vertex\n",
    "            # If no old distance or shorter path found:\n",
    "            if dist_v is None or dist_v > we.weight + dist_u:\n",
    "                distances[we.v] = we.weight + dist_u\n",
    "                # Change edge to the shorter path to this vertex\n",
    "                path_dict[we.v] = we\n",
    "                pq.push(DijkstraNode(we.v, we.weight + dist_u))\n",
    "    return distances, path_dict"
   ]
  },
  {
   "cell_type": "markdown",
   "id": "tough-television",
   "metadata": {},
   "source": [
    "__Helper functions__"
   ]
  },
  {
   "cell_type": "code",
   "execution_count": 39,
   "id": "domestic-welding",
   "metadata": {},
   "outputs": [],
   "source": [
    "def distance_array_to_vertex_dict(wg: WeightedGraph[V], distances: List[Optional[float]]) -> Dict[V, Optional[float]]:\n",
    "    distance_dict: Dict[V, Optional[float]] = {}\n",
    "    for i in range(len(distances)):\n",
    "        distance_dict[wg.vertex_at(i)] = distances[i]\n",
    "    return distance_dict\n",
    "\n",
    "def path_dict_to_path(start: int, end: int, path_dict: Dict[int, WeightedEdge]) -> WeightedPath:\n",
    "    if len(path_dict) == 0:\n",
    "        return []\n",
    "    edge_path: WeightedPath = []\n",
    "    e: WeightedEdge = path_dict[end]\n",
    "    edge_path.append(e)\n",
    "    while e.u != start:\n",
    "        e = path_dict[e.u]\n",
    "        edge_path.append(e)\n",
    "    return list(reversed(edge_path))"
   ]
  },
  {
   "cell_type": "markdown",
   "id": "random-geology",
   "metadata": {},
   "source": [
    "__Filling the graph__"
   ]
  },
  {
   "cell_type": "code",
   "execution_count": 40,
   "id": "elegant-baker",
   "metadata": {},
   "outputs": [],
   "source": [
    "city_graph2: WeightedGraph[str] = WeightedGraph([\"Seattle\", \"San Francisco\", \"Los Angeles\", \"Riverside\", \"Phoenix\", \"Chicago\", \"Boston\", \"New York\", \"Atlanta\", \"Miami\", \"Dallas\", \"Houston\", \"Detroit\", \"Philadelphia\", \"Washington\"])\n",
    "\n",
    "city_graph2.add_edge_by_vertices(\"Seattle\", \"Chicago\", 1737)\n",
    "city_graph2.add_edge_by_vertices(\"Seattle\", \"San Francisco\", 678)\n",
    "city_graph2.add_edge_by_vertices(\"San Francisco\", \"Riverside\", 386)\n",
    "city_graph2.add_edge_by_vertices(\"San Francisco\", \"Los Angeles\", 348)\n",
    "city_graph2.add_edge_by_vertices(\"Los Angeles\", \"Riverside\", 50)\n",
    "city_graph2.add_edge_by_vertices(\"Los Angeles\", \"Phoenix\", 357)\n",
    "city_graph2.add_edge_by_vertices(\"Riverside\", \"Phoenix\", 307)\n",
    "city_graph2.add_edge_by_vertices(\"Riverside\", \"Chicago\", 1704)\n",
    "city_graph2.add_edge_by_vertices(\"Phoenix\", \"Dallas\", 887)\n",
    "city_graph2.add_edge_by_vertices(\"Phoenix\", \"Houston\", 1015)\n",
    "city_graph2.add_edge_by_vertices(\"Dallas\", \"Chicago\", 805)\n",
    "city_graph2.add_edge_by_vertices(\"Dallas\", \"Atlanta\", 721)\n",
    "city_graph2.add_edge_by_vertices(\"Dallas\", \"Houston\", 225)\n",
    "city_graph2.add_edge_by_vertices(\"Houston\", \"Atlanta\", 702)\n",
    "city_graph2.add_edge_by_vertices(\"Houston\", \"Miami\", 968)\n",
    "city_graph2.add_edge_by_vertices(\"Atlanta\", \"Chicago\", 588)\n",
    "city_graph2.add_edge_by_vertices(\"Atlanta\", \"Washington\", 543)\n",
    "city_graph2.add_edge_by_vertices(\"Atlanta\", \"Miami\", 604)\n",
    "city_graph2.add_edge_by_vertices(\"Miami\", \"Washington\", 923)\n",
    "city_graph2.add_edge_by_vertices(\"Chicago\", \"Detroit\", 238)\n",
    "city_graph2.add_edge_by_vertices(\"Detroit\", \"Boston\", 613)\n",
    "city_graph2.add_edge_by_vertices(\"Detroit\", \"Washington\", 396)\n",
    "city_graph2.add_edge_by_vertices(\"Detroit\", \"New York\", 482)\n",
    "city_graph2.add_edge_by_vertices(\"Boston\", \"New York\", 190)\n",
    "city_graph2.add_edge_by_vertices(\"New York\", \"Philadelphia\", 81)\n",
    "city_graph2.add_edge_by_vertices(\"Philadelphia\", \"Washington\", 123)"
   ]
  },
  {
   "cell_type": "markdown",
   "id": "tamil-artwork",
   "metadata": {},
   "source": [
    "__Finding the shortest distance from Los Angeles__"
   ]
  },
  {
   "cell_type": "code",
   "execution_count": 41,
   "id": "optical-danger",
   "metadata": {},
   "outputs": [
    {
     "name": "stdout",
     "output_type": "stream",
     "text": [
      "Distances from Los Angeles:\n",
      "Seattle : 1026\n",
      "San Francisco : 348\n",
      "Los Angeles : 0\n",
      "Riverside : 50\n",
      "Phoenix : 357\n",
      "Chicago : 1754\n",
      "Boston : 2605\n",
      "New York : 2474\n",
      "Atlanta : 1965\n",
      "Miami : 2340\n",
      "Dallas : 1244\n",
      "Houston : 1372\n",
      "Detroit : 1992\n",
      "Philadelphia : 2511\n",
      "Washington : 2388\n"
     ]
    }
   ],
   "source": [
    "distances, path_dict = dijkstra(city_graph2, \"Los Angeles\")\n",
    "name_distance: Dict[str, Optional[int]] = distance_array_to_vertex_dict(city_graph2, distances)\n",
    "print(\"Distances from Los Angeles:\")\n",
    "for key, value in name_distance.items():\n",
    "    print(f\"{key} : {value}\")"
   ]
  },
  {
   "cell_type": "code",
   "execution_count": 43,
   "id": "israeli-contribution",
   "metadata": {},
   "outputs": [
    {
     "name": "stdout",
     "output_type": "stream",
     "text": [
      "Shortest path from Los Angeles to Boston:\n",
      "Los Angeles 50 > Riverside\n",
      "Riverside 1704 > Chicago\n",
      "Chicago 238 > Detroit\n",
      "Detroit 613 > Boston\n",
      "Total weight: 2605\n"
     ]
    }
   ],
   "source": [
    "print(\"Shortest path from Los Angeles to Boston:\")\n",
    "path: WeightedPath = path_dict_to_path(city_graph2.index_of(\"Los Angeles\"), city_graph2.index_of(\"Boston\"), path_dict)\n",
    "print_weighted_path(city_graph2, path)"
   ]
  },
  {
   "cell_type": "code",
   "execution_count": null,
   "id": "controlling-oasis",
   "metadata": {},
   "outputs": [],
   "source": []
  }
 ],
 "metadata": {
  "kernelspec": {
   "display_name": "Python 3",
   "language": "python",
   "name": "python3"
  },
  "language_info": {
   "codemirror_mode": {
    "name": "ipython",
    "version": 3
   },
   "file_extension": ".py",
   "mimetype": "text/x-python",
   "name": "python",
   "nbconvert_exporter": "python",
   "pygments_lexer": "ipython3",
   "version": "3.9.2"
  }
 },
 "nbformat": 4,
 "nbformat_minor": 5
}
