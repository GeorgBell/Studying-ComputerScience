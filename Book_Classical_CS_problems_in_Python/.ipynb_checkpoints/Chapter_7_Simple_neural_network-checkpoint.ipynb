{
 "cells": [
  {
   "cell_type": "markdown",
   "id": "crude-dialogue",
   "metadata": {},
   "source": [
    "# Chapter 7. Simple neural networks\n",
    "## 7.3. Preliminaries"
   ]
  },
  {
   "cell_type": "code",
   "execution_count": 1,
   "id": "finished-chapter",
   "metadata": {},
   "outputs": [],
   "source": [
    "from __future__ import annotations\n",
    "from typing import List, Callable, Optional, Tuple, TypeVar\n",
    "from functools import reduce\n",
    "from random import random, shuffle\n",
    "from math import exp\n",
    "import matplotlib.pyplot as plt\n",
    "import numpy as np\n",
    "import csv"
   ]
  },
  {
   "cell_type": "markdown",
   "id": "comprehensive-regulation",
   "metadata": {},
   "source": [
    "__Scalar multiplication__"
   ]
  },
  {
   "cell_type": "code",
   "execution_count": 2,
   "id": "returning-farmer",
   "metadata": {},
   "outputs": [],
   "source": [
    "def dot_products(xs: List[float], ys: List[float]) -> float:\n",
    "    return sum(x * y for x, y in zip(xs, ys))"
   ]
  },
  {
   "cell_type": "markdown",
   "id": "collectible-klein",
   "metadata": {},
   "source": [
    "__Activation function__"
   ]
  },
  {
   "cell_type": "code",
   "execution_count": 3,
   "id": "chinese-parallel",
   "metadata": {},
   "outputs": [],
   "source": [
    "def sigmoid(x: float) -> float:\n",
    "    return 1.0 / (1.0 + exp(0-x))\n",
    "\n",
    "def derivative_sigmoid(x: float) -> float:\n",
    "    sig: float = sigmoid(x)\n",
    "    return sig * (1 - sig)"
   ]
  },
  {
   "cell_type": "markdown",
   "id": "charged-disaster",
   "metadata": {},
   "source": [
    "## 7.4. Building neural network"
   ]
  },
  {
   "cell_type": "markdown",
   "id": "equivalent-arizona",
   "metadata": {},
   "source": [
    "__Define neuron__"
   ]
  },
  {
   "cell_type": "code",
   "execution_count": 4,
   "id": "robust-anniversary",
   "metadata": {},
   "outputs": [],
   "source": [
    "class Neuron:\n",
    "    def __init__(self, weights: List[float], learning_rate: float,\n",
    "                 activation_function: Callable[[float], float], \n",
    "                 derivative_activation_function: Callable[[float], float]):\n",
    "        self.weights: List[float] = weights\n",
    "        self.learning_rate: float = learning_rate\n",
    "        self.activation_function: Callable[[float], float] = activation_function\n",
    "        self.derivative_activation_function: Callable[[float], float] = derivative_activation_function\n",
    "        # Entities for storing values\n",
    "        self.output_cache: float = 0.0  # Result dot product\n",
    "        self.delta: float = 0.0  # Value for weight correction\n",
    "    \n",
    "    def output(self, inputs: List[float]) -> float:\n",
    "        self.output_cache = dot_products(inputs, self.weights)\n",
    "        return self.activation_function(self.output_cache)"
   ]
  },
  {
   "cell_type": "markdown",
   "id": "quality-albania",
   "metadata": {},
   "source": [
    "__Define layer__"
   ]
  },
  {
   "cell_type": "code",
   "execution_count": 5,
   "id": "simplified-nitrogen",
   "metadata": {},
   "outputs": [],
   "source": [
    "class Layer:\n",
    "    def __init__(self, previous_layer: Optional[Layer], num_neurons: int, learning_rate: float,\n",
    "                 activation_function: Callable[[float], float], \n",
    "                 derivative_activation_function: Callable[[float], float]) -> None:\n",
    "        self.previous_layer: Optional[Layer] = previous_layer\n",
    "        self.neurons: List[Neuron] = []\n",
    "        \n",
    "        # Initializing randon weights\n",
    "        for i in range(num_neurons):\n",
    "            if previous_layer is None:\n",
    "                random_weights: List[float] = []\n",
    "            else:\n",
    "                random_weights = [random() for _ in range(len(previous_layer.neurons))]\n",
    "            neuron: Neuron = Neuron(random_weights, learning_rate, activation_function,\n",
    "                                    derivative_activation_function)\n",
    "            self.neurons.append(neuron)\n",
    "        self.output_cache: List[float] = [0.0 for _ in range(num_neurons)]\n",
    "    \n",
    "    def outputs(self, inputs: List[float]) -> List[float]:\n",
    "        if self.previous_layer is None:\n",
    "            self.output_cache = inputs\n",
    "        else:\n",
    "            self.output_cache = [n.output(inputs) for n in self.neurons]\n",
    "        return self.output_cache\n",
    "    \n",
    "    def calculate_deltas_for_output_layer(self, expected: List[float]) -> None:\n",
    "        for n in range(len(self.neurons)):\n",
    "            self.neurons[n].delta = (self.neurons[n].derivative_activation_function(self.neurons[n].output_cache) *\n",
    "                                    (expected[n] - self.output_cache[n]))\n",
    "    \n",
    "    def calculate_deltas_for_hidden_layer(self, next_layer: Layer) -> None:\n",
    "        for index, neuron in enumerate(self.neurons):\n",
    "            next_weights: List[float] = [n.weights[index] for n in next_layer.neurons]\n",
    "            next_deltas: List[float] = [n.delta for n in next_layer.neurons]\n",
    "            sum_weights_and_deltas: float = dot_products(next_weights, next_deltas)\n",
    "            neuron.delta = neuron.derivative_activation_function(neuron.output_cache) * sum_weights_and_deltas"
   ]
  },
  {
   "cell_type": "markdown",
   "id": "necessary-carrier",
   "metadata": {},
   "source": [
    "__Define network__"
   ]
  },
  {
   "cell_type": "code",
   "execution_count": 6,
   "id": "christian-daniel",
   "metadata": {},
   "outputs": [],
   "source": [
    "T = TypeVar('T')\n",
    "\n",
    "class Network:\n",
    "    def __init__(self, layer_structure: List[int], learning_rate: float,\n",
    "                 activation_function: Callable[[float], float] = sigmoid,\n",
    "                 derivative_activation_function: Callable[[float], float] = derivative_sigmoid) -> None:\n",
    "        # Check up\n",
    "        if len(layer_structure) < 3:\n",
    "            raise ValueError(\"Error: should be at least 3 layers - 1 input, 1 hidden, 1 output\")\n",
    "        self.layers: List[Layer] = []\n",
    "        # Input layer\n",
    "        input_layer: Layer = Layer(None, layer_structure[0], learning_rate, \n",
    "                                   activation_function, derivative_activation_function)\n",
    "        self.layers.append(input_layer)\n",
    "        # Hidden layers\n",
    "        for previous, num_neurons in enumerate(layer_structure[1::]):\n",
    "            next_layer: Layer = Layer(self.layers[previous], num_neurons, learning_rate,\n",
    "                                     activation_function, derivative_activation_function)\n",
    "            self.layers.append(next_layer)\n",
    "    \n",
    "    def outputs(self, input: List[float]) -> List[float]:\n",
    "        \"\"\"\n",
    "        Places input data onto the first layer and then passes its output to the next layer\n",
    "        \"\"\"\n",
    "        return reduce(lambda inputs, layer: layer.outputs(inputs), self.layers, input)\n",
    "    \n",
    "    def backpropagate(self, expected: List[float]) -> None:\n",
    "        \"\"\"\n",
    "        Define changes of each neuron on the basis of error\n",
    "        between expected and generated output\n",
    "        \"\"\"\n",
    "        last_layer: int = len(self.layers) - 1\n",
    "        self.layers[last_layer].calculate_deltas_for_output_layer(expected)\n",
    "        for idx in range(last_layer - 1, 0, -1):\n",
    "            self.layers[idx].calculate_deltas_for_hidden_layer(self.layers[idx+1])\n",
    "            \n",
    "    def update_weights(self) -> None:\n",
    "        \"\"\"\n",
    "        Apply weight changes using precalculated deltas\n",
    "        \"\"\"\n",
    "        for layer in self.layers[1:]: # Skip input layer\n",
    "            for neuron in layer.neurons:\n",
    "                for w in range(len(neuron.weights)):\n",
    "                    neuron.weights[w] = neuron.weights[w] + (neuron.learning_rate * \n",
    "                                                             (layer.previous_layer.output_cache[w]) *\n",
    "                                                             neuron.delta)\n",
    "    \n",
    "    def validate(self, inputs: List[List[float]], expecteds: List[T], \n",
    "                 interpret_output: Callable[[List[float]], T]) -> Tuple[int, int, float]:\n",
    "        correct: int = 0\n",
    "        for input, expected in zip(inputs, expecteds):     \n",
    "            result: T = interpret_output(self.outputs(input))\n",
    "            if result == expected:\n",
    "                correct += 1\n",
    "        percentage: float = correct / len(inputs)\n",
    "        return correct, len(inputs), percentage\n",
    "    \n",
    "    def plot_accuracy(self, accuracies: List[float]) -> None:\n",
    "        plt.plot(accuracies)\n",
    "        plt.grid()\n",
    "        plt.ylabel(\"Train accuracy, %\")\n",
    "        plt.xlabel(\"Epoch\")\n",
    "        plt.show()\n",
    "    \n",
    "    def train(self, epoch_num: int, inputs: List[List[float]], expecteds: List[List[float]], \n",
    "              correct_species: List[str], interpret_output: Callable[[List[float]], T]) -> None:\n",
    "        accuracies: List[float]= []\n",
    "        \n",
    "        for epoch in range(epoch_num):\n",
    "            for location, xs in enumerate(inputs):\n",
    "                ys: List[float] = expecteds[location]\n",
    "                outs: List[float] = self.outputs(xs)\n",
    "                self.backpropagate(ys)\n",
    "                self.update_weights()\n",
    "            \n",
    "            correct, total, accuracy = self.validate(inputs, correct_species, interpret_output)\n",
    "            accuracies.append(accuracy*100)\n",
    "            print(f\"Epoch {epoch} / {epoch_num}: accuracy = {accuracy}\")\n",
    "        self.plot_accuracy(accuracies)"
   ]
  },
  {
   "cell_type": "markdown",
   "id": "artistic-credit",
   "metadata": {},
   "source": [
    "## 7.5. Classification\n",
    "## 7.5.1. Data normalization\n",
    "__Map data to the range from 0 to 1__"
   ]
  },
  {
   "cell_type": "code",
   "execution_count": 7,
   "id": "abroad-garlic",
   "metadata": {},
   "outputs": [],
   "source": [
    "def normalize_by_feature_scaling(dataset: List[List[float]]) -> None:\n",
    "    for col_num in range(len(dataset[0])):\n",
    "        column: List[float] = [row[col_num] for row in dataset]\n",
    "        maximum = max(column)\n",
    "        minimum = min(column)\n",
    "        for row_num in range(len(dataset)):\n",
    "            dataset[row_num][col_num] = (dataset[row_num][col_num] - minimum) / (maximum - minimum)"
   ]
  },
  {
   "cell_type": "markdown",
   "id": "worldwide-textbook",
   "metadata": {},
   "source": [
    "## 7.5.2. Iris dataset classification"
   ]
  },
  {
   "cell_type": "markdown",
   "id": "front-contribution",
   "metadata": {},
   "source": [
    "__Reading and preprocessing dataset__"
   ]
  },
  {
   "cell_type": "code",
   "execution_count": 8,
   "id": "essential-table",
   "metadata": {},
   "outputs": [],
   "source": [
    "iris_parameters: List[List[float]] = []\n",
    "iris_classifications: List[List[float]] = []\n",
    "iris_species: [List[str]] = []\n",
    "\n",
    "with open('Datasets/iris.csv', mode='r') as iris_file:\n",
    "    irises: List = list(csv.reader(iris_file))\n",
    "    shuffle(irises)\n",
    "    for iris in irises:\n",
    "        # Extracting parameters\n",
    "        parameters: List[float] = [float(n) for n in iris[0:4]]\n",
    "        iris_parameters.append(parameters)\n",
    "        # Extracting class\n",
    "        species = iris[4]\n",
    "        if species == \"Iris-setosa\":\n",
    "            iris_classifications.append([1.0, 0.0, 0.0])\n",
    "        elif species == \"Iris-versicolor\":\n",
    "            iris_classifications.append([0.0, 1.0, 0.0])\n",
    "        else:\n",
    "            iris_classifications.append([0.0, 0.0, 1.0])\n",
    "        iris_species.append(species)\n",
    "normalize_by_feature_scaling(iris_parameters)"
   ]
  },
  {
   "cell_type": "markdown",
   "id": "trying-numbers",
   "metadata": {},
   "source": [
    "__Function for interpreting classes__"
   ]
  },
  {
   "cell_type": "code",
   "execution_count": 9,
   "id": "applicable-porter",
   "metadata": {},
   "outputs": [],
   "source": [
    "def iris_interpret_output(output: List[float]) -> str:\n",
    "    if max(output) == output[0]:\n",
    "        return \"Iris-setosa\"\n",
    "    elif max(output) == output[1]:\n",
    "        return \"Iris-versicolor\"\n",
    "    else:\n",
    "        return \"Iris-virginica\""
   ]
  },
  {
   "cell_type": "markdown",
   "id": "innovative-development",
   "metadata": {},
   "source": [
    "__Building and training network__"
   ]
  },
  {
   "cell_type": "code",
   "execution_count": 10,
   "id": "exciting-perry",
   "metadata": {},
   "outputs": [
    {
     "name": "stdout",
     "output_type": "stream",
     "text": [
      "Epoch 0 / 50: accuracy = 0.32857142857142857\n",
      "Epoch 1 / 50: accuracy = 0.32857142857142857\n",
      "Epoch 2 / 50: accuracy = 0.32857142857142857\n",
      "Epoch 3 / 50: accuracy = 0.35\n",
      "Epoch 4 / 50: accuracy = 0.6571428571428571\n",
      "Epoch 5 / 50: accuracy = 0.9428571428571428\n",
      "Epoch 6 / 50: accuracy = 0.9142857142857143\n",
      "Epoch 7 / 50: accuracy = 0.9142857142857143\n",
      "Epoch 8 / 50: accuracy = 0.9142857142857143\n",
      "Epoch 9 / 50: accuracy = 0.9357142857142857\n",
      "Epoch 10 / 50: accuracy = 0.9428571428571428\n",
      "Epoch 11 / 50: accuracy = 0.9571428571428572\n",
      "Epoch 12 / 50: accuracy = 0.9571428571428572\n",
      "Epoch 13 / 50: accuracy = 0.9571428571428572\n",
      "Epoch 14 / 50: accuracy = 0.9642857142857143\n",
      "Epoch 15 / 50: accuracy = 0.9642857142857143\n",
      "Epoch 16 / 50: accuracy = 0.9642857142857143\n",
      "Epoch 17 / 50: accuracy = 0.9642857142857143\n",
      "Epoch 18 / 50: accuracy = 0.9642857142857143\n",
      "Epoch 19 / 50: accuracy = 0.9642857142857143\n",
      "Epoch 20 / 50: accuracy = 0.9571428571428572\n",
      "Epoch 21 / 50: accuracy = 0.9571428571428572\n",
      "Epoch 22 / 50: accuracy = 0.9642857142857143\n",
      "Epoch 23 / 50: accuracy = 0.9571428571428572\n",
      "Epoch 24 / 50: accuracy = 0.9571428571428572\n",
      "Epoch 25 / 50: accuracy = 0.95\n",
      "Epoch 26 / 50: accuracy = 0.95\n",
      "Epoch 27 / 50: accuracy = 0.95\n",
      "Epoch 28 / 50: accuracy = 0.95\n",
      "Epoch 29 / 50: accuracy = 0.9428571428571428\n",
      "Epoch 30 / 50: accuracy = 0.9428571428571428\n",
      "Epoch 31 / 50: accuracy = 0.9428571428571428\n",
      "Epoch 32 / 50: accuracy = 0.9428571428571428\n",
      "Epoch 33 / 50: accuracy = 0.9428571428571428\n",
      "Epoch 34 / 50: accuracy = 0.9428571428571428\n",
      "Epoch 35 / 50: accuracy = 0.9428571428571428\n",
      "Epoch 36 / 50: accuracy = 0.9357142857142857\n",
      "Epoch 37 / 50: accuracy = 0.9214285714285714\n",
      "Epoch 38 / 50: accuracy = 0.9142857142857143\n",
      "Epoch 39 / 50: accuracy = 0.9142857142857143\n",
      "Epoch 40 / 50: accuracy = 0.9142857142857143\n",
      "Epoch 41 / 50: accuracy = 0.9214285714285714\n",
      "Epoch 42 / 50: accuracy = 0.9285714285714286\n",
      "Epoch 43 / 50: accuracy = 0.9285714285714286\n",
      "Epoch 44 / 50: accuracy = 0.9285714285714286\n",
      "Epoch 45 / 50: accuracy = 0.9285714285714286\n",
      "Epoch 46 / 50: accuracy = 0.9285714285714286\n",
      "Epoch 47 / 50: accuracy = 0.9285714285714286\n",
      "Epoch 48 / 50: accuracy = 0.9285714285714286\n",
      "Epoch 49 / 50: accuracy = 0.9285714285714286\n"
     ]
    },
    {
     "data": {
      "image/png": "[encoded data removed]",
      "text/plain": [
       "<Figure size 432x288 with 1 Axes>"
      ]
     },
     "metadata": {
      "needs_background": "light"
     },
     "output_type": "display_data"
    }
   ],
   "source": [
    "# Initiate network\n",
    "iris_network: Network = Network([4, 6, 3], 0.3)\n",
    "# Prepare training set\n",
    "iris_trainers: List[List[float]] = iris_parameters[0:140]\n",
    "iris_trainers_correct: List[List[float]] = iris_classifications[0:140]\n",
    "iris_correct_species: List[str] = iris_species[0:140]\n",
    "\n",
    "iris_network.train(epoch_num=50, inputs=iris_trainers, expecteds=iris_trainers_correct, \n",
    "                   correct_species=iris_correct_species, interpret_output=iris_interpret_output)"
   ]
  },
  {
   "cell_type": "code",
   "execution_count": 11,
   "id": "associate-track",
   "metadata": {},
   "outputs": [
    {
     "name": "stdout",
     "output_type": "stream",
     "text": [
      "10 correct of 10 = 100.0%\n"
     ]
    }
   ],
   "source": [
    "iris_testers: List[List[float]] = iris_parameters[140:150]\n",
    "iris_testers_corrects: List[str] = iris_species[140:150]\n",
    "iris_results = iris_network.validate(iris_testers, iris_testers_corrects, iris_interpret_output)\n",
    "print(f\"{iris_results[0]} correct of {iris_results[1]} = {iris_results[2] * 100}%\")"
   ]
  },
  {
   "cell_type": "markdown",
   "id": "specified-publicity",
   "metadata": {},
   "source": [
    "## 7.5.3. Wine classification"
   ]
  },
  {
   "cell_type": "markdown",
   "id": "blessed-million",
   "metadata": {},
   "source": [
    "__Read and preprocess data__"
   ]
  },
  {
   "cell_type": "code",
   "execution_count": 42,
   "id": "persistent-recycling",
   "metadata": {},
   "outputs": [],
   "source": [
    "# Prepare data structures\n",
    "wine_parameters: List[List[float]] = []\n",
    "wine_classifications: List[List[float]] = []\n",
    "wine_species: List[int] = []\n",
    "# Read data from csv\n",
    "with open(\"Datasets/wine.csv\", mode=\"r\") as wine_file:\n",
    "    wines: List = list(csv.reader(wine_file, quoting=csv.QUOTE_NONNUMERIC))\n",
    "    shuffle(wines)\n",
    "    for wine in wines:\n",
    "        parameters: List[float] = [float(n) for n in wine[1:14]]\n",
    "        wine_parameters.append(parameters)\n",
    "        species: int = int(wine[0])\n",
    "        if species == 1:\n",
    "            wine_classifications.append([1.0, 0.0, 0.0])\n",
    "        elif species == 2:\n",
    "            wine_classifications.append([0.0, 1.0, 0.0])\n",
    "        else:\n",
    "            wine_classifications.append([0.0, 0.0, 1.0])\n",
    "        wine_species.append(species)\n",
    "normalize_by_feature_scaling(wine_parameters)"
   ]
  },
  {
   "cell_type": "markdown",
   "id": "continental-thumb",
   "metadata": {},
   "source": [
    "__Interpretation function__"
   ]
  },
  {
   "cell_type": "code",
   "execution_count": 40,
   "id": "unusual-discipline",
   "metadata": {},
   "outputs": [],
   "source": [
    "def wine_interpret_output(output: List[float]) -> int:\n",
    "    if max(output) == output[0]:\n",
    "        return 1\n",
    "    elif max(output) == output[1]:\n",
    "        return 2\n",
    "    else:\n",
    "        return 3"
   ]
  },
  {
   "cell_type": "markdown",
   "id": "aging-excuse",
   "metadata": {},
   "source": [
    "__Initialize and train network__"
   ]
  },
  {
   "cell_type": "code",
   "execution_count": 48,
   "id": "mighty-eagle",
   "metadata": {},
   "outputs": [
    {
     "name": "stdout",
     "output_type": "stream",
     "text": [
      "Epoch 0 / 100: accuracy = 0.38666666666666666\n",
      "Epoch 1 / 100: accuracy = 0.6466666666666666\n",
      "Epoch 2 / 100: accuracy = 0.82\n",
      "Epoch 3 / 100: accuracy = 0.9266666666666666\n",
      "Epoch 4 / 100: accuracy = 0.9666666666666667\n",
      "Epoch 5 / 100: accuracy = 0.9666666666666667\n",
      "Epoch 6 / 100: accuracy = 0.9733333333333334\n",
      "Epoch 7 / 100: accuracy = 0.98\n",
      "Epoch 8 / 100: accuracy = 0.98\n",
      "Epoch 9 / 100: accuracy = 0.98\n",
      "Epoch 10 / 100: accuracy = 0.98\n",
      "Epoch 11 / 100: accuracy = 0.98\n",
      "Epoch 12 / 100: accuracy = 0.98\n",
      "Epoch 13 / 100: accuracy = 0.98\n",
      "Epoch 14 / 100: accuracy = 0.98\n",
      "Epoch 15 / 100: accuracy = 0.98\n",
      "Epoch 16 / 100: accuracy = 0.9866666666666667\n",
      "Epoch 17 / 100: accuracy = 0.9866666666666667\n",
      "Epoch 18 / 100: accuracy = 0.9866666666666667\n",
      "Epoch 19 / 100: accuracy = 0.98\n",
      "Epoch 20 / 100: accuracy = 0.98\n",
      "Epoch 21 / 100: accuracy = 0.98\n",
      "Epoch 22 / 100: accuracy = 0.98\n",
      "Epoch 23 / 100: accuracy = 0.98\n",
      "Epoch 24 / 100: accuracy = 0.98\n",
      "Epoch 25 / 100: accuracy = 0.98\n",
      "Epoch 26 / 100: accuracy = 0.98\n",
      "Epoch 27 / 100: accuracy = 0.9733333333333334\n",
      "Epoch 28 / 100: accuracy = 0.9733333333333334\n",
      "Epoch 29 / 100: accuracy = 0.9733333333333334\n",
      "Epoch 30 / 100: accuracy = 0.9733333333333334\n",
      "Epoch 31 / 100: accuracy = 0.9733333333333334\n",
      "Epoch 32 / 100: accuracy = 0.98\n",
      "Epoch 33 / 100: accuracy = 0.98\n",
      "Epoch 34 / 100: accuracy = 0.98\n",
      "Epoch 35 / 100: accuracy = 0.98\n",
      "Epoch 36 / 100: accuracy = 0.98\n",
      "Epoch 37 / 100: accuracy = 0.98\n",
      "Epoch 38 / 100: accuracy = 0.98\n",
      "Epoch 39 / 100: accuracy = 0.98\n",
      "Epoch 40 / 100: accuracy = 0.98\n",
      "Epoch 41 / 100: accuracy = 0.98\n",
      "Epoch 42 / 100: accuracy = 0.98\n",
      "Epoch 43 / 100: accuracy = 0.98\n",
      "Epoch 44 / 100: accuracy = 0.98\n",
      "Epoch 45 / 100: accuracy = 0.98\n",
      "Epoch 46 / 100: accuracy = 0.9866666666666667\n",
      "Epoch 47 / 100: accuracy = 0.9866666666666667\n",
      "Epoch 48 / 100: accuracy = 0.9866666666666667\n",
      "Epoch 49 / 100: accuracy = 0.9866666666666667\n",
      "Epoch 50 / 100: accuracy = 0.9866666666666667\n",
      "Epoch 51 / 100: accuracy = 0.9866666666666667\n",
      "Epoch 52 / 100: accuracy = 0.9866666666666667\n",
      "Epoch 53 / 100: accuracy = 0.9866666666666667\n",
      "Epoch 54 / 100: accuracy = 0.9866666666666667\n",
      "Epoch 55 / 100: accuracy = 0.9866666666666667\n",
      "Epoch 56 / 100: accuracy = 0.9866666666666667\n",
      "Epoch 57 / 100: accuracy = 0.9866666666666667\n",
      "Epoch 58 / 100: accuracy = 0.9866666666666667\n",
      "Epoch 59 / 100: accuracy = 0.9866666666666667\n",
      "Epoch 60 / 100: accuracy = 0.9933333333333333\n",
      "Epoch 61 / 100: accuracy = 0.9933333333333333\n",
      "Epoch 62 / 100: accuracy = 0.9933333333333333\n",
      "Epoch 63 / 100: accuracy = 0.9933333333333333\n",
      "Epoch 64 / 100: accuracy = 0.9933333333333333\n",
      "Epoch 65 / 100: accuracy = 0.9933333333333333\n",
      "Epoch 66 / 100: accuracy = 0.9933333333333333\n",
      "Epoch 67 / 100: accuracy = 0.9933333333333333\n",
      "Epoch 68 / 100: accuracy = 0.9933333333333333\n",
      "Epoch 69 / 100: accuracy = 0.9933333333333333\n",
      "Epoch 70 / 100: accuracy = 0.9933333333333333\n",
      "Epoch 71 / 100: accuracy = 0.9933333333333333\n",
      "Epoch 72 / 100: accuracy = 0.9933333333333333\n",
      "Epoch 73 / 100: accuracy = 0.9933333333333333\n",
      "Epoch 74 / 100: accuracy = 0.9933333333333333\n",
      "Epoch 75 / 100: accuracy = 0.9933333333333333\n",
      "Epoch 76 / 100: accuracy = 0.9933333333333333\n",
      "Epoch 77 / 100: accuracy = 0.9933333333333333\n",
      "Epoch 78 / 100: accuracy = 0.9933333333333333\n",
      "Epoch 79 / 100: accuracy = 0.9933333333333333\n",
      "Epoch 80 / 100: accuracy = 0.9933333333333333\n",
      "Epoch 81 / 100: accuracy = 0.9933333333333333\n",
      "Epoch 82 / 100: accuracy = 0.9933333333333333\n",
      "Epoch 83 / 100: accuracy = 0.9933333333333333\n",
      "Epoch 84 / 100: accuracy = 0.9933333333333333\n",
      "Epoch 85 / 100: accuracy = 0.9933333333333333\n",
      "Epoch 86 / 100: accuracy = 0.9933333333333333\n",
      "Epoch 87 / 100: accuracy = 0.9933333333333333\n",
      "Epoch 88 / 100: accuracy = 0.9933333333333333\n",
      "Epoch 89 / 100: accuracy = 0.9933333333333333\n",
      "Epoch 90 / 100: accuracy = 0.9933333333333333\n",
      "Epoch 91 / 100: accuracy = 0.9933333333333333\n",
      "Epoch 92 / 100: accuracy = 0.9933333333333333\n",
      "Epoch 93 / 100: accuracy = 0.9933333333333333\n",
      "Epoch 94 / 100: accuracy = 0.9933333333333333\n",
      "Epoch 95 / 100: accuracy = 0.9933333333333333\n",
      "Epoch 96 / 100: accuracy = 0.9933333333333333\n",
      "Epoch 97 / 100: accuracy = 0.9933333333333333\n",
      "Epoch 98 / 100: accuracy = 0.9933333333333333\n",
      "Epoch 99 / 100: accuracy = 0.9933333333333333\n"
     ]
    },
    {
     "data": {
      "image/png": "[encoded data removed]",
      "text/plain": [
       "<Figure size 432x288 with 1 Axes>"
      ]
     },
     "metadata": {
      "needs_background": "light"
     },
     "output_type": "display_data"
    }
   ],
   "source": [
    "# Initialize network\n",
    "wine_network: Network = Network([13, 5, 3], 0.9)\n",
    "    \n",
    "# Forming train set\n",
    "wine_trainers: List[List[float]] = wine_parameters[0:150]\n",
    "wine_trainers_correct: List[List[float]] = wine_classifications[0:150]\n",
    "wine_species_correct: List[int] = wine_species[0:150]\n",
    "    \n",
    "# Training network\n",
    "wine_network.train(epoch_num=100, inputs=wine_trainers, expecteds=wine_trainers_correct, \n",
    "                   correct_species=wine_species_correct, interpret_output=wine_interpret_output)"
   ]
  },
  {
   "cell_type": "code",
   "execution_count": 49,
   "id": "equal-wesley",
   "metadata": {},
   "outputs": [
    {
     "name": "stdout",
     "output_type": "stream",
     "text": [
      "27 correct of 28 = 96.42857142857143%\n"
     ]
    }
   ],
   "source": [
    "wine_testers: List[List[float]] = wine_parameters[150:178]\n",
    "wine_testers_corrects: List[int] = wine_species[150:178]\n",
    "wine_results = wine_network.validate(wine_testers, wine_testers_corrects, wine_interpret_output)\n",
    "print(f\"{wine_results[0]} correct of {wine_results[1]} = {wine_results[2] * 100}%\")"
   ]
  }
 ],
 "metadata": {
  "kernelspec": {
   "display_name": "Python 3",
   "language": "python",
   "name": "python3"
  },
  "language_info": {
   "codemirror_mode": {
    "name": "ipython",
    "version": 3
   },
   "file_extension": ".py",
   "mimetype": "text/x-python",
   "name": "python",
   "nbconvert_exporter": "python",
   "pygments_lexer": "ipython3",
   "version": "3.9.2"
  }
 },
 "nbformat": 4,
 "nbformat_minor": 5
}
