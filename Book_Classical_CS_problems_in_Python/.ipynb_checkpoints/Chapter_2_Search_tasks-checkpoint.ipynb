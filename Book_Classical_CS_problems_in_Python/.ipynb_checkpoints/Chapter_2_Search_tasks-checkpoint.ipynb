{
 "cells": [
  {
   "cell_type": "markdown",
   "id": "crude-dialogue",
   "metadata": {},
   "source": [
    "# Chapter 1. Simple tasks\n",
    "## 2.0. Tree data structure"
   ]
  },
  {
   "cell_type": "code",
   "execution_count": 1,
   "id": "binary-rogers",
   "metadata": {},
   "outputs": [],
   "source": [
    "class Node:\n",
    "    def __init__(self, data):\n",
    "        self.left = None\n",
    "        self.right = None\n",
    "        self.data = data\n",
    "    \n",
    "    def insert(self, data):\n",
    "        # compare new value with current\n",
    "        if self.data:\n",
    "            if data < self.data:\n",
    "                if self.left == None:\n",
    "                    self.left = Node(data)\n",
    "                else:\n",
    "                    self.left.insert(data)\n",
    "            elif data > self.data:\n",
    "                if self.right == None:\n",
    "                    self.right = Node(data)\n",
    "                else:\n",
    "                    self.right.insert(data)\n",
    "        else:\n",
    "            self.data = data\n",
    "    \n",
    "    def print_tree(self):\n",
    "        if self.left:\n",
    "            self.left.print_tree()\n",
    "        print(self.data)\n",
    "        if self.right:\n",
    "            self.right.print_tree()\n",
    "    \n",
    "    def inorder_traversal(self, root):\n",
    "        res = []\n",
    "        if root:\n",
    "            res = root.inorder_traversal(root.left)\n",
    "            res.append(root.data)\n",
    "            res += root.inorder_traversal(root.right)\n",
    "        return res"
   ]
  },
  {
   "cell_type": "code",
   "execution_count": 2,
   "id": "fuzzy-judges",
   "metadata": {},
   "outputs": [],
   "source": [
    "tree = Node(25)\n",
    "tree.insert(12)\n",
    "tree.insert(32)\n",
    "tree.insert(3)\n",
    "tree.insert(83)"
   ]
  },
  {
   "cell_type": "code",
   "execution_count": 3,
   "id": "forward-organic",
   "metadata": {},
   "outputs": [
    {
     "data": {
      "text/plain": [
       "[3, 12, 25, 32, 83]"
      ]
     },
     "execution_count": 3,
     "metadata": {},
     "output_type": "execute_result"
    }
   ],
   "source": [
    "tree.inorder_traversal(tree)"
   ]
  },
  {
   "cell_type": "code",
   "execution_count": 4,
   "id": "neutral-meditation",
   "metadata": {},
   "outputs": [
    {
     "name": "stdout",
     "output_type": "stream",
     "text": [
      "3\n",
      "12\n",
      "25\n",
      "32\n",
      "83\n"
     ]
    }
   ],
   "source": [
    "tree.print_tree()"
   ]
  },
  {
   "cell_type": "markdown",
   "id": "streaming-hometown",
   "metadata": {},
   "source": [
    "## 2.1. DNA search\n",
    "DNA search"
   ]
  },
  {
   "cell_type": "code",
   "execution_count": 5,
   "id": "sorted-flight",
   "metadata": {},
   "outputs": [],
   "source": [
    "from enum import IntEnum\n",
    "from typing import Tuple, List\n",
    "\n",
    "Nucleotide: IntEnum = IntEnum('Nucleotide', ('A', 'C', 'G', 'T'))\n",
    "Codon = Tuple[Nucleotide, Nucleotide, Nucleotide]\n",
    "Gene = List[Codon]\n",
    "\n",
    "def string_to_gene(s: str) -> Gene:\n",
    "    gene: Gene = []\n",
    "    for i in range(0, len(s), 3):\n",
    "        if (i + 2) >= len(s): # Do not move over the range\n",
    "            return gene\n",
    "        codon: Codon = (Nucleotide[s[i]], Nucleotide[s[i+1]], Nucleotide[s[i+2]])\n",
    "        gene.append(codon)\n",
    "    return gene"
   ]
  },
  {
   "cell_type": "code",
   "execution_count": 6,
   "id": "neutral-encoding",
   "metadata": {},
   "outputs": [],
   "source": [
    "str_gene = \"ATGCGTATGCGTTTTGATATCTCAGATTTAATGCGTATGCGTTTTGATATCTCAGATTTAATGCGTATGCGTTTTGATATCTCAGATTTAT\"\n",
    "str_gene = \"ATGCGTTTTATGCGTGATTTTATGCGTGATTTT\"\n",
    "test_gene: Gene = string_to_gene(str_gene)"
   ]
  },
  {
   "cell_type": "markdown",
   "id": "external-suspension",
   "metadata": {},
   "source": [
    "__Linear search__"
   ]
  },
  {
   "cell_type": "code",
   "execution_count": 7,
   "id": "optimum-taxation",
   "metadata": {},
   "outputs": [],
   "source": [
    "def linear_contains(gene: Gene, key_codon: Codon) -> Tuple[bool, int]:\n",
    "    counter = 0\n",
    "    for codon in gene:\n",
    "        counter += 1\n",
    "        if codon == key_codon:\n",
    "            return True, counter\n",
    "    return False, counter"
   ]
  },
  {
   "cell_type": "code",
   "execution_count": 8,
   "id": "statistical-upper",
   "metadata": {},
   "outputs": [
    {
     "name": "stdout",
     "output_type": "stream",
     "text": [
      "(False, 11)\n"
     ]
    }
   ],
   "source": [
    "acg: Codon = (Nucleotide.A, Nucleotide.C, Nucleotide.G)\n",
    "gat: Codon = (Nucleotide.G, Nucleotide.A, Nucleotide.T)\n",
    "\n",
    "print(linear_contains(test_gene, acg))"
   ]
  },
  {
   "cell_type": "code",
   "execution_count": 9,
   "id": "liked-calculator",
   "metadata": {},
   "outputs": [
    {
     "name": "stdout",
     "output_type": "stream",
     "text": [
      "(True, 6)\n"
     ]
    }
   ],
   "source": [
    "print(linear_contains(test_gene, gat))"
   ]
  },
  {
   "cell_type": "markdown",
   "id": "interested-confidence",
   "metadata": {},
   "source": [
    "__Binary search__"
   ]
  },
  {
   "cell_type": "code",
   "execution_count": 10,
   "id": "based-dragon",
   "metadata": {},
   "outputs": [],
   "source": [
    "def binary_contains(gene: Gene, key_codon: Codon) -> Tuple[bool, int]:\n",
    "    low: int = 0\n",
    "    high: int = len(gene) - 1\n",
    "    counter: int = 0\n",
    "    while low <= high:\n",
    "        counter += 1\n",
    "        mid: int = (low + high) // 2\n",
    "        if gene[mid] < key_codon:\n",
    "            \n",
    "            low = mid + 1\n",
    "        elif gene[mid] > key_codon:\n",
    "            high = mid - 1\n",
    "        else:\n",
    "            return True, counter\n",
    "    return False, counter"
   ]
  },
  {
   "cell_type": "code",
   "execution_count": 11,
   "id": "regional-building",
   "metadata": {},
   "outputs": [
    {
     "name": "stdout",
     "output_type": "stream",
     "text": [
      "(False, 3)\n"
     ]
    }
   ],
   "source": [
    "print(binary_contains(test_gene, acg))"
   ]
  },
  {
   "cell_type": "code",
   "execution_count": 12,
   "id": "entire-motion",
   "metadata": {},
   "outputs": [
    {
     "name": "stdout",
     "output_type": "stream",
     "text": [
      "(True, 1)\n"
     ]
    }
   ],
   "source": [
    "print(binary_contains(test_gene, gat))"
   ]
  },
  {
   "cell_type": "code",
   "execution_count": 13,
   "id": "geographic-anxiety",
   "metadata": {},
   "outputs": [],
   "source": [
    "def binary_recursive_contains(gene: Gene, key_codon: Codon, low: int, high: int) -> bool:\n",
    "    \n",
    "    mid: int = (low + high) // 2\n",
    "    if low > high:\n",
    "        print(\"exceeded\")\n",
    "        return False\n",
    "    if gene[mid] < key_codon:\n",
    "        print(\"Less\")\n",
    "        low = mid + 1\n",
    "        binary_recursive_contains(gene, key_codon, low, high)\n",
    "    elif gene[mid] > key_codon:\n",
    "        print(\"More\")\n",
    "        high = mid - 1\n",
    "        binary_recursive_contains(gene, key_codon, low, high)\n",
    "    elif gene[mid] == key_codon:\n",
    "        print(\"Equal\")\n",
    "        return True"
   ]
  },
  {
   "cell_type": "code",
   "execution_count": 14,
   "id": "judicial-colon",
   "metadata": {},
   "outputs": [
    {
     "name": "stdout",
     "output_type": "stream",
     "text": [
      "More\n",
      "More\n",
      "More\n",
      "exceeded\n",
      "None\n"
     ]
    }
   ],
   "source": [
    "print(binary_recursive_contains(test_gene, acg, 0, len(test_gene) - 1))"
   ]
  },
  {
   "cell_type": "markdown",
   "id": "productive-plate",
   "metadata": {},
   "source": [
    "__Parametrized example__"
   ]
  },
  {
   "cell_type": "code",
   "execution_count": 17,
   "id": "consecutive-glenn",
   "metadata": {},
   "outputs": [],
   "source": [
    "from __future__ import annotations\n",
    "from typing import TypeVar, Iterable, Sequence, Generic, List, Callable, Set, Deque, Dict, Any, Optional\n",
    "from typing_extensions import Protocol\n",
    "from heapq import heappush, heappop"
   ]
  },
  {
   "cell_type": "code",
   "execution_count": 18,
   "id": "useful-smell",
   "metadata": {},
   "outputs": [],
   "source": [
    "T = TypeVar('T') # Can be anything\n",
    "# if specified: T = TypeVar('T', str, bytes) it should be str or bytes\n",
    "\n",
    "def linear_contains(iterable: Iterable[T], key: T) -> bool:\n",
    "    for item in iterable:\n",
    "        if item == key:\n",
    "            return True\n",
    "    return False"
   ]
  },
  {
   "cell_type": "code",
   "execution_count": 19,
   "id": "after-senate",
   "metadata": {},
   "outputs": [],
   "source": [
    "C = TypeVar('C', bound=\"Comparable\")\n",
    "\n",
    "class Comparable(Protocol):\n",
    "    def __eq__(self, other: Any) -> bool:\n",
    "        pass\n",
    "    \n",
    "    def __lt__(self, other: Any) -> bool:\n",
    "        pass\n",
    "    \n",
    "    def __gt__(self, other: Any) -> bool:\n",
    "        return (not self < other) and self != other\n",
    "    \n",
    "    def __le__(self, other: Any) -> bool:\n",
    "        return self < other or self == other\n",
    "    \n",
    "    def __ge__(self, other: Any) -> bool:\n",
    "        return not self < other\n",
    "    \n",
    "    def binary_contains(sequence: Sequence[C], key: C) -> bool:\n",
    "        low: int = 0\n",
    "        high: int = len(sequence) - 1\n",
    "        while low <= high:\n",
    "            mid: int = (low + high) / 2\n",
    "            if sequence[mid] < key:\n",
    "                low = mid + 1\n",
    "            elif sequence[mid] > key:\n",
    "                high = mid - 1\n",
    "            else:\n",
    "                return True\n",
    "        return False"
   ]
  },
  {
   "cell_type": "code",
   "execution_count": 20,
   "id": "incident-johnston",
   "metadata": {},
   "outputs": [
    {
     "name": "stdout",
     "output_type": "stream",
     "text": [
      "True\n"
     ]
    }
   ],
   "source": [
    "# Test case 1\n",
    "print(linear_contains([1, 5, 15, 15, 15, 20], 5))"
   ]
  },
  {
   "cell_type": "code",
   "execution_count": 21,
   "id": "reported-professional",
   "metadata": {},
   "outputs": [
    {
     "name": "stdout",
     "output_type": "stream",
     "text": [
      "(True, 2)\n"
     ]
    }
   ],
   "source": [
    "# Test case 2\n",
    "print(binary_contains([\"a\", \"d\", \"e\", \"f\", \"z\"], \"f\"))"
   ]
  },
  {
   "cell_type": "code",
   "execution_count": 22,
   "id": "southwest-kennedy",
   "metadata": {},
   "outputs": [
    {
     "name": "stdout",
     "output_type": "stream",
     "text": [
      "(False, 3)\n"
     ]
    }
   ],
   "source": [
    "# Test case 3\n",
    "print(binary_contains([\"john\", \"mark\", \"ronald\", \"sarah\"], \"sheila\"))"
   ]
  },
  {
   "cell_type": "markdown",
   "id": "brazilian-nicholas",
   "metadata": {},
   "source": [
    "## 2.2. Labyrinth"
   ]
  },
  {
   "cell_type": "markdown",
   "id": "younger-privilege",
   "metadata": {},
   "source": [
    "__Building a maze__"
   ]
  },
  {
   "cell_type": "code",
   "execution_count": 23,
   "id": "relative-recommendation",
   "metadata": {},
   "outputs": [],
   "source": [
    "from enum import Enum\n",
    "from typing import List, NamedTuple, Callable, Optional\n",
    "import random\n",
    "from math import sqrt"
   ]
  },
  {
   "cell_type": "code",
   "execution_count": 69,
   "id": "electronic-lucas",
   "metadata": {},
   "outputs": [],
   "source": [
    "class Cell(str, Enum):\n",
    "    EMPTY = \" \"\n",
    "    BLOCKED = \"X\"\n",
    "    GOAL = \"G\"\n",
    "    START = \"S\"\n",
    "    PATH = \"*\"\n",
    "    \n",
    "class MazeLocation(NamedTuple):\n",
    "    row: int\n",
    "    column: int\n",
    "\n",
    "class Maze:\n",
    "    \n",
    "    def __init__(self, rows: int = 10, columns: int = 10, sparseness: float = 0.2,\n",
    "                start: MazeLocation = MazeLocation(0,0), goal: MazeLocation = MazeLocation(9,9)) -> None:\n",
    "        self._rows: int = rows\n",
    "        self._columns: int = columns\n",
    "        self.start: MazeLocation = start\n",
    "        self.goal: MazeLocation = goal\n",
    "            \n",
    "        # Fill maze with empty blocks\n",
    "        self._grid: List[List[Cell]] = [[Cell.EMPTY for c in range(columns)] for r in range(rows)]\n",
    "        # Randomly fill maze with blocked blocks\n",
    "        self._randomly_fill(rows, columns, sparseness)\n",
    "        # Fill start and end positions\n",
    "        self._grid[start.row][start.column] = Cell.START\n",
    "        self._grid[goal.row][goal.column] = Cell.GOAL\n",
    "        \n",
    "        \n",
    "    def _randomly_fill(self, rows: int, columns: int, sparseness: float):\n",
    "        for row in range(rows):\n",
    "            for column in range(columns):\n",
    "                if random.uniform(0, 1.0) < sparseness:\n",
    "                    self._grid[row][column] = Cell.BLOCKED\n",
    "          \n",
    "        \n",
    "    def goal_test(self, ml: MazeLocation) -> bool:\n",
    "        return ml == self.goal\n",
    "    \n",
    "    \n",
    "    def successors(self, ml: MazeLocation) -> List[MazeLocation]:\n",
    "        \"\"\"\n",
    "        Checking free spaces in upper, lower, right, and left locations\n",
    "        around current maze locations\n",
    "        \"\"\"\n",
    "        locations: List[MazeLocation] = []\n",
    "        \n",
    "        if (ml.row + 1 < self._rows # Check if there is space\n",
    "           and self._grid[ml.row + 1][ml.column] != Cell.BLOCKED): # Check if there is free path\n",
    "            locations.append(MazeLocation(ml.row + 1, ml.column))\n",
    "        \n",
    "        if (ml.row - 1 >= 0 and self._grid[ml.row - 1][ml.column] != Cell.BLOCKED):\n",
    "            locations.append(MazeLocation(ml.row - 1, ml.column))\n",
    "        \n",
    "        if (ml.column + 1 < self._columns and self._grid[ml.row][ml.column + 1] != Cell.BLOCKED):\n",
    "            locations.append(MazeLocation(ml.row, ml.column + 1))\n",
    "        \n",
    "        if (ml.column - 1 >= 0 and self._grid[ml.row][ml.column - 1] != Cell.BLOCKED):\n",
    "            locations.append(MazeLocation(ml.row, ml.column - 1))\n",
    "        return locations\n",
    "    \n",
    "    \n",
    "    def mark(self, path: List[MazeLocation]):\n",
    "        \"\"\"\n",
    "        Show the path\n",
    "        \"\"\"\n",
    "        for maze_location in path:\n",
    "            self._grid[maze_location.row][maze_location.column] = Cell.PATH\n",
    "        self._grid[self.start.row][self.start.column] = Cell.START\n",
    "        self._grid[self.goal.row][self.goal.column] = Cell.GOAL\n",
    "        \n",
    "    \n",
    "    def clear(self, path: List[MazeLocation]):\n",
    "        for maze_location in path:\n",
    "            self._grid[maze_location.row][maze_location.column] = Cell.EMPTY\n",
    "        self._grid[self.start.row][self.start.column] = Cell.START\n",
    "        self._grid[self.goal.row][self.goal.column] = Cell.GOAL\n",
    "     \n",
    "        \n",
    "    def __str__(self) -> str:\n",
    "        output: str = \"\"\n",
    "        for row in self._grid:\n",
    "            output += \"\".join([c.value for c in row]) + \"\\n\"\n",
    "        return output"
   ]
  },
  {
   "cell_type": "code",
   "execution_count": 70,
   "id": "legislative-duration",
   "metadata": {},
   "outputs": [
    {
     "name": "stdout",
     "output_type": "stream",
     "text": [
      "S   X    X\n",
      "          \n",
      " X  XX   X\n",
      "   X    X \n",
      "    X     \n",
      "  X       \n",
      "         X\n",
      "      X   \n",
      " X X XX XX\n",
      "  X    X G\n",
      "\n"
     ]
    }
   ],
   "source": [
    "maze: Maze = Maze(sparseness = 0.2)\n",
    "print(maze)"
   ]
  },
  {
   "cell_type": "markdown",
   "id": "breathing-treatment",
   "metadata": {},
   "source": [
    "__Depth-first search__  \n",
    "Implement stack, first"
   ]
  },
  {
   "cell_type": "code",
   "execution_count": 71,
   "id": "compatible-wrestling",
   "metadata": {},
   "outputs": [],
   "source": [
    "class Stack(Generic[T]):\n",
    "    def __init__(self) -> None:\n",
    "        self._container: List[T] = []\n",
    "    \n",
    "    @property\n",
    "    def empty(self) -> bool:\n",
    "        return not self._container\n",
    "    \n",
    "    def push(self, item: T) -> None:\n",
    "        self._container.append(item)\n",
    "    \n",
    "    def pop(self) -> T:\n",
    "        return self._container.pop()\n",
    "    \n",
    "    def __repr__(self) -> str:\n",
    "        return repr(self._container)"
   ]
  },
  {
   "cell_type": "code",
   "execution_count": 72,
   "id": "everyday-tuning",
   "metadata": {},
   "outputs": [
    {
     "name": "stdout",
     "output_type": "stream",
     "text": [
      "After pushing: [1, 5, 10]\n",
      "Popped: 10, got: [1, 5]\n",
      "Is empty: False\n"
     ]
    }
   ],
   "source": [
    "my_stack = Stack()\n",
    "my_stack.push(1)\n",
    "my_stack.push(5)\n",
    "my_stack.push(10)\n",
    "print(f\"After pushing: {my_stack}\")\n",
    "\n",
    "val = my_stack.pop()\n",
    "print(f\"Popped: {val}, got: {my_stack}\")\n",
    "\n",
    "print(f\"Is empty: {my_stack.empty}\")"
   ]
  },
  {
   "cell_type": "markdown",
   "id": "exempt-queue",
   "metadata": {},
   "source": [
    "Implement Node as a wrapup around state"
   ]
  },
  {
   "cell_type": "code",
   "execution_count": 73,
   "id": "sharp-divorce",
   "metadata": {},
   "outputs": [],
   "source": [
    "class Node(Generic[T]):\n",
    "    def __init__(self, state: T, parent: Optional[Node], cost: float = 0.0, heuristic: float = 0.0) -> None:\n",
    "        self.state: T = state\n",
    "        self.parent: Optional[Node] = parent\n",
    "        self.cost: float = cost\n",
    "        self.heuristic: float = heuristic\n",
    "    \n",
    "    def __lt__(self, other: Node) -> bool:\n",
    "        return (self.cost + self.heuristic) < (other.cost + other.heuristic)"
   ]
  },
  {
   "cell_type": "markdown",
   "id": "bronze-appeal",
   "metadata": {},
   "source": [
    "DFS - check two data structures: stack of reviewed states and set of explored states"
   ]
  },
  {
   "cell_type": "code",
   "execution_count": 74,
   "id": "dimensional-narrative",
   "metadata": {},
   "outputs": [],
   "source": [
    "def dfs(initial: T, goal_test: Callable[[T], bool], successors: Callable[[T], List[T]]) -> Optional[Node[T]]:\n",
    "    # Frontier - next steps\n",
    "    frontier: Stack[Node[T]] = Stack()\n",
    "    # Push the first slot\n",
    "    frontier.push(Node(initial, None))\n",
    "    # Places where we have been\n",
    "    explored: Set[T] = {initial}\n",
    "        \n",
    "    # Check all the states, while they are available\n",
    "    while not frontier.empty:\n",
    "        current_node: Node[T] = frontier.pop()\n",
    "        current_state: T = current_node.state\n",
    "        \n",
    "        # If found, finish\n",
    "        if goal_test(current_state):\n",
    "            return current_node\n",
    "    \n",
    "        # Check where to go next\n",
    "        for child in successors(current_state):\n",
    "            if child in explored:\n",
    "                continue\n",
    "            explored.add(child)\n",
    "            frontier.push(Node(child, current_node))\n",
    "    return None # If there is no solution"
   ]
  },
  {
   "cell_type": "markdown",
   "id": "authorized-brief",
   "metadata": {},
   "source": [
    "Restore path"
   ]
  },
  {
   "cell_type": "code",
   "execution_count": 75,
   "id": "through-mainland",
   "metadata": {},
   "outputs": [],
   "source": [
    "def node_to_path(node: Node[T]) -> List[T]:\n",
    "    path: List[T] = [node.state]\n",
    "    # From the end to the begining\n",
    "    while node.parent is not None:\n",
    "        node = node.parent\n",
    "        path.append(node.state)\n",
    "    path.reverse()\n",
    "    return path"
   ]
  },
  {
   "cell_type": "markdown",
   "id": "right-senior",
   "metadata": {},
   "source": [
    "__Test DFS__"
   ]
  },
  {
   "cell_type": "code",
   "execution_count": 78,
   "id": "vanilla-concrete",
   "metadata": {},
   "outputs": [
    {
     "name": "stdout",
     "output_type": "stream",
     "text": [
      "S     X X \n",
      "X X X  XXX\n",
      "  XX  X  X\n",
      " X  X XX  \n",
      "    X     \n",
      "  X  X X  \n",
      "  X       \n",
      "     X X  \n",
      "          \n",
      "  XXX XXXG\n",
      "\n"
     ]
    }
   ],
   "source": [
    "m: Maze = Maze(sparseness=0.3)\n",
    "print(m)"
   ]
  },
  {
   "cell_type": "code",
   "execution_count": 79,
   "id": "judicial-writer",
   "metadata": {},
   "outputs": [
    {
     "name": "stdout",
     "output_type": "stream",
     "text": [
      "S*****X X \n",
      "X X X* XXX\n",
      "  XX *X  X\n",
      " X  X*XX  \n",
      "****X*****\n",
      "* X* X X *\n",
      "**X*******\n",
      " **  X X  \n",
      "  ********\n",
      "  XXX XXXG\n",
      "\n"
     ]
    }
   ],
   "source": [
    "solution1: Optional[Node[MazeLocation]] = dfs(m.start, m.goal_test, m.successors)\n",
    "if solution1 is None:\n",
    "    print(\"No solution found using depth-first search\")\n",
    "else:\n",
    "    path1: List[MazeLocation] = node_to_path(solution1)\n",
    "    m.mark(path1)\n",
    "    print(m)\n",
    "    m.clear(path1)"
   ]
  },
  {
   "cell_type": "markdown",
   "id": "parallel-organ",
   "metadata": {},
   "source": [
    "__Breadth-first search__  \n",
    "Always finds the shortest path"
   ]
  },
  {
   "cell_type": "markdown",
   "id": "lonely-hayes",
   "metadata": {},
   "source": [
    "Implement queue, at first"
   ]
  },
  {
   "cell_type": "code",
   "execution_count": 80,
   "id": "moderate-feature",
   "metadata": {},
   "outputs": [],
   "source": [
    "class Queue(Generic[T]):\n",
    "    def __init__(self) -> None:\n",
    "        self._container: Deque[T] = Deque()\n",
    "        \n",
    "    @property\n",
    "    def empty(self) -> bool:\n",
    "        return not self._container\n",
    "    \n",
    "    def push(self, item: T) -> None:\n",
    "        self._container.append(item)\n",
    "        \n",
    "    def pop(self) -> T:\n",
    "        return self._container.popleft()\n",
    "    \n",
    "    def __repr__(self) -> str:\n",
    "        return repr(self._container)        "
   ]
  },
  {
   "cell_type": "markdown",
   "id": "plain-resident",
   "metadata": {},
   "source": [
    "Implement BFS"
   ]
  },
  {
   "cell_type": "code",
   "execution_count": 84,
   "id": "reverse-network",
   "metadata": {},
   "outputs": [],
   "source": [
    "def bfs(initial: T, goal_test: Callable[[T], bool], successors: Callable[[T], List[T]]) -> Optional[Node[T]]:\n",
    "    frontier: Queue[Node[T]] = Queue()\n",
    "    frontier.push(Node(initial, None))\n",
    "    explored: Set[T] = {initial}\n",
    "        \n",
    "    while not frontier.empty:\n",
    "        current_node: Node[T] = frontier.pop()\n",
    "        current_state: T = current_node.state\n",
    "        if goal_test(current_state):\n",
    "            return current_node\n",
    "        for child in successors(current_state):\n",
    "            if child in explored:\n",
    "                continue\n",
    "            explored.add(child)\n",
    "            frontier.push(Node(child, current_node))\n",
    "    return None"
   ]
  },
  {
   "cell_type": "markdown",
   "id": "detected-active",
   "metadata": {},
   "source": [
    "Test BFS"
   ]
  },
  {
   "cell_type": "code",
   "execution_count": 85,
   "id": "velvet-numbers",
   "metadata": {},
   "outputs": [
    {
     "name": "stdout",
     "output_type": "stream",
     "text": [
      "S*****X X \n",
      "X X X* XXX\n",
      "  XX *X  X\n",
      " X  X*XX  \n",
      "    X**   \n",
      "  X  X*X  \n",
      "  X   *   \n",
      "     X*X  \n",
      "      ****\n",
      "  XXX XXXG\n",
      "\n"
     ]
    }
   ],
   "source": [
    "solution2: Optional[Node[MazeLocation]] = bfs(m.start, m.goal_test, m.successors)\n",
    "\n",
    "if solution2 is None:\n",
    "    print(\"No solution found using breadth-first search!\")\n",
    "else:\n",
    "    path2: List[MazeLocation] = node_to_path(solution2)\n",
    "    m.mark(path2)\n",
    "    print(m)\n",
    "    m.clear(path2)"
   ]
  },
  {
   "cell_type": "markdown",
   "id": "bacterial-rebound",
   "metadata": {},
   "source": [
    "__A* search__  \n",
    "Focus on the paths that are more likely to lead to the goal"
   ]
  },
  {
   "cell_type": "markdown",
   "id": "ambient-messaging",
   "metadata": {},
   "source": [
    "Priority Queue"
   ]
  },
  {
   "cell_type": "code",
   "execution_count": 87,
   "id": "naval-lodge",
   "metadata": {},
   "outputs": [],
   "source": [
    "class PriorityQueue(Generic[T]):\n",
    "    \"\"\"\n",
    "    Priority is taken as cost value for element (__lt__ in Node class)\n",
    "    \"\"\"\n",
    "    def __init__(self) -> None:\n",
    "        self._container: List[T] = []\n",
    "        \n",
    "    @property\n",
    "    def empty(self) -> bool:\n",
    "        return not self._container\n",
    "    \n",
    "    def push(self, item: T) -> None:\n",
    "        heappush(self._container, item)\n",
    "        \n",
    "    def pop(self) -> T:\n",
    "        return heappop(self._container)\n",
    "    \n",
    "    def __repr__(self) -> str:\n",
    "        return repr(self._container)"
   ]
  },
  {
   "cell_type": "markdown",
   "id": "restricted-advancement",
   "metadata": {},
   "source": [
    "Heuristics: Euclidian distance"
   ]
  },
  {
   "cell_type": "code",
   "execution_count": 88,
   "id": "opponent-cornell",
   "metadata": {},
   "outputs": [],
   "source": [
    "def euclidian_distance(goal: MazeLocation) -> Callable[[MazeLocation], float]:\n",
    "    # Goal is fixed in outer function\n",
    "    def distance(ml: MazeLocation) -> float:\n",
    "        xdist: int = ml.column - goal.column\n",
    "        ydist: int = ml.row - goal.row\n",
    "        return sqrt((xdist * xdist) + (ydist * ydist))\n",
    "    return distance"
   ]
  },
  {
   "cell_type": "markdown",
   "id": "dimensional-publicity",
   "metadata": {},
   "source": [
    "Heuristics: Manhattan distance"
   ]
  },
  {
   "cell_type": "code",
   "execution_count": 89,
   "id": "bored-setup",
   "metadata": {},
   "outputs": [],
   "source": [
    "def manhattan_distance(goal: MazeLocation) -> Callable[[MazeLocation], float]:\n",
    "    def distance(ml: MazeLocation) -> float:\n",
    "        xdist: int = abs(ml.column - goal.column)\n",
    "        ydist: int = abs(ml.row - goal.row)\n",
    "        return (xdist + ydist)\n",
    "    return distance"
   ]
  },
  {
   "cell_type": "markdown",
   "id": "digital-basis",
   "metadata": {},
   "source": [
    "A*-algorithm implementation"
   ]
  },
  {
   "cell_type": "code",
   "execution_count": 93,
   "id": "moral-segment",
   "metadata": {},
   "outputs": [],
   "source": [
    "def astar(initial: T, goal_test: Callable[[T], bool], successors: Callable[[T], List[T]], \n",
    "          heuristic: Callable[[T], float]) -> Optional[Node[T]]:\n",
    "    frontier: PriorityQueue[Node[T]] = PriorityQueue()\n",
    "    frontier.push(Node(initial, None, 0.0, heuristic(initial)))\n",
    "    explored: Dict[T, float] = {initial: 0.0}\n",
    "        \n",
    "    while not frontier.empty:\n",
    "        current_node: Node[T] = frontier.pop()\n",
    "        current_state: T = current_node.state\n",
    "            \n",
    "        if goal_test(current_state):\n",
    "            return current_node\n",
    "        \n",
    "        for child in successors(current_state):\n",
    "            new_cost: float = current_node.cost + 1 # Applicable only for simple cases like grid\n",
    "            \n",
    "            if child not in explored or explored[child] > new_cost:\n",
    "                explored[child] = new_cost\n",
    "                frontier.push(Node(child, current_node, new_cost, heuristic(child)))\n",
    "    return None"
   ]
  },
  {
   "cell_type": "markdown",
   "id": "complicated-impact",
   "metadata": {},
   "source": [
    "Testing A* search"
   ]
  },
  {
   "cell_type": "code",
   "execution_count": 94,
   "id": "centered-klein",
   "metadata": {},
   "outputs": [
    {
     "name": "stdout",
     "output_type": "stream",
     "text": [
      "S*****X X \n",
      "X X X* XXX\n",
      "  XX *X  X\n",
      " X  X*XX  \n",
      "    X**   \n",
      "  X  X*X  \n",
      "  X   *   \n",
      "     X*X  \n",
      "      ****\n",
      "  XXX XXXG\n",
      "\n"
     ]
    }
   ],
   "source": [
    "distance: Callable[[MazeLocation], float] = manhattan_distance(m.goal)\n",
    "solution3: Optional[Node[MazeLocation]] = astar(m.start, m.goal_test, m.successors, distance)\n",
    "\n",
    "if solution3 is None:\n",
    "    print(\"No solution found using A*!\")\n",
    "else:\n",
    "    path3: List[MazeLocation] = node_to_path(solution3)\n",
    "    m.mark(path3)\n",
    "    print(m)"
   ]
  },
  {
   "cell_type": "markdown",
   "id": "convertible-fighter",
   "metadata": {},
   "source": [
    "## 2.3. Missionaries\n",
    "Left bank |....| Right bank  \n",
    "C1 C2 C3  |....|    \n",
    "M1 M2 M3  |B...|  "
   ]
  },
  {
   "cell_type": "code",
   "execution_count": 95,
   "id": "indirect-jesus",
   "metadata": {},
   "outputs": [],
   "source": [
    "from __future__ import annotations\n",
    "from typing import List, Optional"
   ]
  },
  {
   "cell_type": "code",
   "execution_count": 111,
   "id": "answering-piano",
   "metadata": {},
   "outputs": [],
   "source": [
    "MAX_NUM = 3\n",
    "\n",
    "class MCState:\n",
    "    def __init__(self, missionaries: int, cannibals: int, boat: bool) -> None:\n",
    "        self.wm: int = missionaries # west coast missionaries\n",
    "        self.wc: int = cannibals\n",
    "        self.em: int = MAX_NUM - self.wm\n",
    "        self.ec: int = MAX_NUM - self.wc\n",
    "        self.boat: bool = boat\n",
    "            \n",
    "    def goal_test(self) -> bool:\n",
    "        return self.is_legal and self.em == MAX_NUM and self.ec == MAX_NUM\n",
    "    \n",
    "    def successors(self) -> List[MCState]:\n",
    "        sucs: List[MCState] = []\n",
    "        if self.boat: # boat at west bank\n",
    "            if self.wm > 1:\n",
    "                sucs.append(MCState(self.wm - 2, self.wc, not self.boat))\n",
    "            if self.wm > 0:\n",
    "                sucs.append(MCState(self.wm - 1, self.wc, not self.boat))\n",
    "            if self.wc > 1:\n",
    "                sucs.append(MCState(self.wm, self.wc - 2, not self.boat))\n",
    "            if self.wc > 0: \n",
    "                sucs.append(MCState(self.wm, self.wc - 1, not self.boat))\n",
    "            if (self.wc > 0) and (self.wm > 0):\n",
    "                sucs.append(MCState(self.wm - 1, self.wc - 1, not self.boat))\n",
    "        else: # boat at east bank\n",
    "            if self.em > 1:\n",
    "                sucs.append(MCState(self.wm + 2, self.wc, not self.boat))\n",
    "            if self.em > 0:\n",
    "                sucs.append(MCState(self.wm + 1, self.wc, not self.boat))\n",
    "            if self.ec > 1:\n",
    "                sucs.append(MCState(self.wm, self.wc + 2, not self.boat))\n",
    "            if self.ec > 0: \n",
    "                sucs.append(MCState(self.wm, self.wc + 1, not self.boat))\n",
    "            if (self.ec > 0) and (self.em > 0):\n",
    "                sucs.append(MCState(self.wm + 1, self.wc + 1, not self.boat))\n",
    "        return [x for x in sucs if x.is_legal]\n",
    "    \n",
    "    @property\n",
    "    def is_legal(self) -> bool:\n",
    "        # Define forbidden steps\n",
    "        if self.wm < self.wc and self.wm > 0:\n",
    "            return False\n",
    "        if self.em < self.ec and self.em > 0:\n",
    "            return False\n",
    "        return True\n",
    "    \n",
    "    def __str__(self) -> str:\n",
    "        return (\"On the west bank there are {} missionaries and {} cannibals. \\n\\\n",
    "On the east bank there are {} missionaries and {} cannibals. \\n\\\n",
    "The boat is on the {} bank.\".format(self.wm, self.wc, self.em, self.ec, \n",
    "                                                   (\"west\" if self.boat else \"east\")))"
   ]
  },
  {
   "cell_type": "code",
   "execution_count": 112,
   "id": "genuine-cancellation",
   "metadata": {},
   "outputs": [],
   "source": [
    "def display_solution(path: List[MCState]):\n",
    "    if len(path) == 0:\n",
    "        return\n",
    "    old_state: MCState = path[0]\n",
    "    print(old_state)\n",
    "    for current_state in path[1:]:\n",
    "        if current_state.boat:\n",
    "            print(\"{} missionaries and {} cannibals moved from the east to the west bank.\\n\".format(old_state.em - current_state.em, old_state.ec - current_state.ec))\n",
    "        else:\n",
    "            print(\"{} missionaries and {} cannibals moved from the west to the east bank.\\n\".format(old_state.wm - current_state.wm, old_state.wc - current_state.wc))\n",
    "        print(current_state)\n",
    "        old_state = current_state"
   ]
  },
  {
   "cell_type": "code",
   "execution_count": 113,
   "id": "innovative-memphis",
   "metadata": {},
   "outputs": [
    {
     "name": "stdout",
     "output_type": "stream",
     "text": [
      "On the west bank there are 3 missionaries and 3 cannibals. \n",
      "On the east bank there are 0 missionaries and 0 cannibals. \n",
      "The boat is on the west bank.\n"
     ]
    }
   ],
   "source": [
    "state = MCState(3,3,True)\n",
    "print(state)"
   ]
  },
  {
   "cell_type": "markdown",
   "id": "economic-patent",
   "metadata": {},
   "source": [
    "Solution to the problem"
   ]
  },
  {
   "cell_type": "code",
   "execution_count": 114,
   "id": "provincial-soundtrack",
   "metadata": {},
   "outputs": [
    {
     "name": "stdout",
     "output_type": "stream",
     "text": [
      "On the west bank there are 3 missionaries and 3 cannibals. \n",
      "On the east bank there are 0 missionaries and 0 cannibals. \n",
      "The boat is on the west bank.\n",
      "0 missionaries and 2 cannibals moved from the west to the east bank.\n",
      "\n",
      "On the west bank there are 3 missionaries and 1 cannibals. \n",
      "On the east bank there are 0 missionaries and 2 cannibals. \n",
      "The boat is on the east bank.\n",
      "0 missionaries and 1 cannibals moved from the east to the west bank.\n",
      "\n",
      "On the west bank there are 3 missionaries and 2 cannibals. \n",
      "On the east bank there are 0 missionaries and 1 cannibals. \n",
      "The boat is on the west bank.\n",
      "0 missionaries and 2 cannibals moved from the west to the east bank.\n",
      "\n",
      "On the west bank there are 3 missionaries and 0 cannibals. \n",
      "On the east bank there are 0 missionaries and 3 cannibals. \n",
      "The boat is on the east bank.\n",
      "0 missionaries and 1 cannibals moved from the east to the west bank.\n",
      "\n",
      "On the west bank there are 3 missionaries and 1 cannibals. \n",
      "On the east bank there are 0 missionaries and 2 cannibals. \n",
      "The boat is on the west bank.\n",
      "2 missionaries and 0 cannibals moved from the west to the east bank.\n",
      "\n",
      "On the west bank there are 1 missionaries and 1 cannibals. \n",
      "On the east bank there are 2 missionaries and 2 cannibals. \n",
      "The boat is on the east bank.\n",
      "1 missionaries and 1 cannibals moved from the east to the west bank.\n",
      "\n",
      "On the west bank there are 2 missionaries and 2 cannibals. \n",
      "On the east bank there are 1 missionaries and 1 cannibals. \n",
      "The boat is on the west bank.\n",
      "2 missionaries and 0 cannibals moved from the west to the east bank.\n",
      "\n",
      "On the west bank there are 0 missionaries and 2 cannibals. \n",
      "On the east bank there are 3 missionaries and 1 cannibals. \n",
      "The boat is on the east bank.\n",
      "0 missionaries and 1 cannibals moved from the east to the west bank.\n",
      "\n",
      "On the west bank there are 0 missionaries and 3 cannibals. \n",
      "On the east bank there are 3 missionaries and 0 cannibals. \n",
      "The boat is on the west bank.\n",
      "0 missionaries and 2 cannibals moved from the west to the east bank.\n",
      "\n",
      "On the west bank there are 0 missionaries and 1 cannibals. \n",
      "On the east bank there are 3 missionaries and 2 cannibals. \n",
      "The boat is on the east bank.\n",
      "1 missionaries and 0 cannibals moved from the east to the west bank.\n",
      "\n",
      "On the west bank there are 1 missionaries and 1 cannibals. \n",
      "On the east bank there are 2 missionaries and 2 cannibals. \n",
      "The boat is on the west bank.\n",
      "1 missionaries and 1 cannibals moved from the west to the east bank.\n",
      "\n",
      "On the west bank there are 0 missionaries and 0 cannibals. \n",
      "On the east bank there are 3 missionaries and 3 cannibals. \n",
      "The boat is on the east bank.\n"
     ]
    }
   ],
   "source": [
    "start: MCState = MCState(MAX_NUM, MAX_NUM, True)\n",
    "solution: Optional[Node[MCState]] = bfs(start, MCState.goal_test, MCState.successors)\n",
    "\n",
    "if solution is None:\n",
    "    print(\"No solution found!\")\n",
    "else:\n",
    "    path: List[MCState] = node_to_path(solution)\n",
    "    display_solution(path)"
   ]
  },
  {
   "cell_type": "code",
   "execution_count": null,
   "id": "damaged-philosophy",
   "metadata": {},
   "outputs": [],
   "source": []
  }
 ],
 "metadata": {
  "kernelspec": {
   "display_name": "Python 3",
   "language": "python",
   "name": "python3"
  },
  "language_info": {
   "codemirror_mode": {
    "name": "ipython",
    "version": 3
   },
   "file_extension": ".py",
   "mimetype": "text/x-python",
   "name": "python",
   "nbconvert_exporter": "python",
   "pygments_lexer": "ipython3",
   "version": "3.9.2"
  }
 },
 "nbformat": 4,
 "nbformat_minor": 5
}
